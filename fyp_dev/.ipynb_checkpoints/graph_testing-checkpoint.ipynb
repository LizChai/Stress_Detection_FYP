{
 "cells": [
  {
   "cell_type": "code",
   "execution_count": null,
   "id": "permanent-exhaust",
   "metadata": {},
   "outputs": [],
   "source": [
    "#!/usr/bin/env python\n",
    "\n",
    "from threading import Thread\n",
    "import serial\n",
    "import time\n",
    "import collections\n",
    "import matplotlib.pyplot as plt\n",
    "import matplotlib.animation as animation\n",
    "import struct\n",
    "import pandas as pd"
   ]
  },
  {
   "cell_type": "code",
   "execution_count": null,
   "id": "liked-verification",
   "metadata": {},
   "outputs": [],
   "source": [
    "#https://thepoorengineer.com/en/arduino-python-plot/#python\n",
    "\n",
    "class serialPlot:\n",
    "    def __init__(self, serialPort = '/dev/ttyUSB0', serialBaud = 38400, plotLength = 100, dataNumBytes = 2):\n",
    "        self.port = serialPort\n",
    "        self.baud = serialBaud\n",
    "        self.plotMaxLength = plotLength\n",
    "        self.dataNumBytes = dataNumBytes\n",
    "        self.rawData = bytearray(dataNumBytes)\n",
    "        self.data = collections.deque([0] * plotLength, maxlen=plotLength)\n",
    "        self.isRun = True\n",
    "        self.isReceiving = False\n",
    "        self.thread = None\n",
    "        self.plotTimer = 0\n",
    "        self.previousTimer = 0\n",
    "        # self.csvData = []\n",
    "\n",
    "        print('Trying to connect to: ' + str(serialPort) + ' at ' + str(serialBaud) + ' BAUD.')\n",
    "        try:\n",
    "            self.serialConnection = serial.Serial(serialPort, serialBaud, timeout=4)\n",
    "            print('Connected to ' + str(serialPort) + ' at ' + str(serialBaud) + ' BAUD.')\n",
    "        except:\n",
    "            print(\"Failed to connect with \" + str(serialPort) + ' at ' + str(serialBaud) + ' BAUD.')\n",
    "\n",
    "    def readSerialStart(self):\n",
    "        if self.thread == None:\n",
    "            self.thread = Thread(target=self.backgroundThread)\n",
    "            self.thread.start()\n",
    "            # Block till we start receiving values\n",
    "            while self.isReceiving != True:\n",
    "                time.sleep(0.1)\n",
    "\n",
    "    def getSerialData(self, frame, lines, lineValueText, lineLabel, timeText):\n",
    "        currentTimer = time.perf_counter()\n",
    "        self.plotTimer = int((currentTimer - self.previousTimer) * 1000)     # the first reading will be erroneous\n",
    "        self.previousTimer = currentTimer\n",
    "        timeText.set_text('Plot Interval = ' + str(self.plotTimer) + 'ms')\n",
    "        value,  = struct.unpack('f', self.rawData)    # use 'h' for a 2 byte integer\n",
    "        self.data.append(value)    # we get the latest data point and append it to our array\n",
    "        lines.set_data(range(self.plotMaxLength), self.data)\n",
    "        lineValueText.set_text('[' + lineLabel + '] = ' + str(value))\n",
    "        # self.csvData.append(self.data[-1])\n",
    "\n",
    "    def backgroundThread(self):    # retrieve data\n",
    "        time.sleep(1.0)  # give some buffer time for retrieving data\n",
    "        self.serialConnection.reset_input_buffer()\n",
    "        while (self.isRun):\n",
    "            self.serialConnection.readinto(self.rawData)\n",
    "            self.isReceiving = True\n",
    "            #print(self.rawData)\n",
    "            value,  = struct.unpack('f', self.rawData)    # use 'h' for a 2 byte integer\n",
    "            print(value)\n",
    "\n",
    "    def close(self):\n",
    "        self.isRun = False\n",
    "        self.thread.join()\n",
    "        self.serialConnection.close()\n",
    "        print('Disconnected...')\n",
    "        # df = pd.DataFrame(self.csvData)\n",
    "        # df.to_csv('/home/rikisenia/Desktop/data.csv')"
   ]
  },
  {
   "cell_type": "code",
   "execution_count": null,
   "id": "introductory-drive",
   "metadata": {},
   "outputs": [],
   "source": [
    "def main():\n",
    "    portName = 'COM3'     # for windows users\n",
    "    #portName = '/dev/ttyUSB0'\n",
    "    baudRate = 115200\n",
    "    maxPlotLength = 100\n",
    "    dataNumBytes = 4        # number of bytes of 1 data point\n",
    "    s = serialPlot(portName, baudRate, maxPlotLength, dataNumBytes)   # initializes all required variables\n",
    "    s.readSerialStart()                                               # starts background thread\n",
    "\n",
    "    # plotting starts below\n",
    "    pltInterval = 50    # Period at which the plot animation updates [ms]\n",
    "    xmin = 0\n",
    "    xmax = maxPlotLength\n",
    "    ymin = 0\n",
    "    ymax = 3\n",
    "    fig = plt.figure()\n",
    "    ax = plt.axes(xlim=(xmin, xmax), ylim=(float(ymin - (ymax - ymin) / 10), float(ymax + (ymax - ymin) / 10)))\n",
    "    ax.set_title('Feather Analog Read')\n",
    "    ax.set_xlabel(\"time\")\n",
    "    ax.set_ylabel(\"Voltage (V)\")\n",
    "\n",
    "    lineLabel = 'GSR Data'\n",
    "    timeText = ax.text(0.50, 3, '', transform=ax.transAxes)\n",
    "    lines = ax.plot([], [], label=lineLabel)[0]\n",
    "    lineValueText = ax.text(0.50, 0.90, '', transform=ax.transAxes)\n",
    "    anim = animation.FuncAnimation(fig, s.getSerialData, fargs=(lines, lineValueText, lineLabel, timeText), interval=pltInterval)    # fargs has to be a tuple\n",
    "\n",
    "    plt.legend(loc=\"upper left\")\n",
    "    plt.show()\n",
    "\n",
    "    s.close()"
   ]
  },
  {
   "cell_type": "code",
   "execution_count": null,
   "id": "excited-albert",
   "metadata": {},
   "outputs": [],
   "source": [
    "if __name__ == '__main__':\n",
    "    main()"
   ]
  },
  {
   "cell_type": "code",
   "execution_count": null,
   "id": "functional-eating",
   "metadata": {},
   "outputs": [],
   "source": []
  },
  {
   "cell_type": "code",
   "execution_count": 3,
   "id": "flexible-onion",
   "metadata": {},
   "outputs": [],
   "source": [
    "import serial\n",
    "import struct\n",
    "import time\n",
    "import datetime as dt\n",
    "import numpy as np\n",
    "import matplotlib.pyplot as plt\n",
    "import matplotlib.animation as animation\n",
    "from matplotlib import style"
   ]
  },
  {
   "cell_type": "code",
   "execution_count": null,
   "id": "essential-railway",
   "metadata": {},
   "outputs": [],
   "source": [
    "ser = serial.Serial(portName, baudRate)"
   ]
  },
  {
   "cell_type": "code",
   "execution_count": 4,
   "id": "lesbian-tissue",
   "metadata": {},
   "outputs": [],
   "source": [
    "def animate(i, xs, ys):\n",
    "#     curr_time = dt.datetime.now().strftime('%H:%M:%S.%f')\n",
    "    curr_time = dt.datetime.now().strftime('%H:%M:%S')\n",
    "    voltage = int(ser.readline().decode(\"utf-8\").strip())\n",
    "    \n",
    "    xs.append(curr_time)\n",
    "    ys.append(voltage)\n",
    "    \n",
    "    xs = xs[-20:]\n",
    "    ys = ys[-20:]\n",
    "    \n",
    "    xs.append(int(i))\n",
    "    ys.append(int(ser_bytes))\n",
    "    \n",
    "    ax.clear()\n",
    "    ax.plot(xs, ys)"
   ]
  },
  {
   "cell_type": "code",
   "execution_count": 7,
   "id": "auburn-philippines",
   "metadata": {},
   "outputs": [
    {
     "data": {
      "image/png": "[encoded data removed]",
      "text/plain": [
       "<Figure size 432x288 with 1 Axes>"
      ]
     },
     "metadata": {
      "needs_background": "light"
     },
     "output_type": "display_data"
    }
   ],
   "source": [
    "portName = 'COM3'\n",
    "baudRate = 115200\n",
    "plotLength = 20\n",
    "\n",
    "times=np.arange(1, plotLength+1).tolist()\n",
    "voltages = []\n",
    "\n",
    "\n",
    "\n",
    "fig = plt.figure()\n",
    "xmin = 0\n",
    "xmax = plotLength\n",
    "ax = plt.axes(xlim=(xmin, xmax), ylim=(0, 3000))\n",
    "ax.set_title('Feather Analog Read')\n",
    "ax.set_xlabel(\"time\")\n",
    "ax.set_ylabel(\"Voltage (mV)\")\n",
    "\n",
    "xs = []\n",
    "ys = []\n",
    "\n",
    "# for i in range(plotLength):\n",
    "#     time.sleep(1)\n",
    "#     try:\n",
    "#         ser_bytes = ser.readline().decode(\"utf-8\").strip()\n",
    "#         print(ser_bytes, i)\n",
    "#         voltages.append(int(ser_bytes))\n",
    "        \n",
    "#     except:\n",
    "#         print(\"Keyboard Interrupt\")\n",
    "#         break\n",
    "\n",
    "ani = animation.FuncAnimation(fig, animate, fargs=(xs, ys), interval=1000)\n",
    "plt.show()\n",
    "\n",
    "#ser.close()"
   ]
  },
  {
   "cell_type": "code",
   "execution_count": null,
   "id": "nominated-passion",
   "metadata": {},
   "outputs": [],
   "source": []
  },
  {
   "cell_type": "code",
   "execution_count": null,
   "id": "positive-jonathan",
   "metadata": {},
   "outputs": [],
   "source": [
    "\n",
    "\n",
    "\n",
    "\n",
    "\n",
    "plt.plot(times, voltages, 'ro')"
   ]
  },
  {
   "cell_type": "code",
   "execution_count": null,
   "id": "built-needle",
   "metadata": {},
   "outputs": [],
   "source": [
    "print(voltages, times)"
   ]
  },
  {
   "cell_type": "code",
   "execution_count": null,
   "id": "addressed-utility",
   "metadata": {},
   "outputs": [],
   "source": []
  }
 ],
 "metadata": {
  "kernelspec": {
   "display_name": "Python 3",
   "language": "python",
   "name": "python3"
  },
  "language_info": {
   "codemirror_mode": {
    "name": "ipython",
    "version": 3
   },
   "file_extension": ".py",
   "mimetype": "text/x-python",
   "name": "python",
   "nbconvert_exporter": "python",
   "pygments_lexer": "ipython3",
   "version": "3.8.2"
  }
 },
 "nbformat": 4,
 "nbformat_minor": 5
}
