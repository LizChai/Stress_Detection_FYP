{
 "cells": [
  {
   "cell_type": "markdown",
   "id": "attractive-witness",
   "metadata": {},
   "source": [
    "# Importing libraries"
   ]
  },
  {
   "cell_type": "code",
   "execution_count": 1,
   "id": "labeled-excerpt",
   "metadata": {},
   "outputs": [],
   "source": [
    "#!/usr/bin/env python\n",
    "%matplotlib inline\n",
    "\n",
    "import time\n",
    "import collections\n",
    "import numpy as np\n",
    "import matplotlib\n",
    "import matplotlib.pyplot as plt\n",
    "import pyqtgraph as pg\n",
    "from pyqtgraph.Qt import QtCore, QtGui\n",
    "from scipy.signal import find_peaks\n",
    "import seaborn as sns\n",
    "import pickle\n",
    "\n",
    "import sklearn\n",
    "from sklearn import metrics\n",
    "from sklearn import neighbors\n",
    "\n",
    "import pandas as pd\n",
    "import re\n",
    "import csv\n",
    "import os\n",
    "\n",
    "import paho.mqtt.client as mqtt"
   ]
  },
  {
   "cell_type": "code",
   "execution_count": 2,
   "id": "sound-river",
   "metadata": {},
   "outputs": [],
   "source": [
    "import warnings\n",
    "warnings.filterwarnings('ignore')"
   ]
  },
  {
   "cell_type": "markdown",
   "id": "practical-democrat",
   "metadata": {},
   "source": [
    "# Start MQTT Broker"
   ]
  },
  {
   "cell_type": "code",
   "execution_count": null,
   "id": "functioning-brunswick",
   "metadata": {},
   "outputs": [
    {
     "name": "stdout",
     "output_type": "stream",
     "text": [
      "C:\\Program Files (x86)\\Mosquitto\n"
     ]
    }
   ],
   "source": [
    "path = \"C:\\\\Users\\\\ieliz\\\\Documents\\\\2021\\\\FYP\\\\Stress_Detection_FYP\\\\python_scripts\\\\\"\n",
    "broker_path = \"C:\\\\Program Files (x86)\\\\Mosquitto\"\n",
    "os.chdir(broker_path)\n",
    "print(os.getcwd())\n",
    "os.system('cmd /k \"mosquitto -c mosquitto_conf.conf -v\"')\n",
    "\n",
    "os.chdir(path)\n",
    "print(os.getcwd())"
   ]
  },
  {
   "cell_type": "markdown",
   "id": "respective-doubt",
   "metadata": {},
   "source": [
    "# Setting up MQTT connections"
   ]
  },
  {
   "cell_type": "code",
   "execution_count": 3,
   "id": "meaningful-exhaust",
   "metadata": {},
   "outputs": [
    {
     "data": {
      "text/plain": [
       "0"
      ]
     },
     "execution_count": 3,
     "metadata": {},
     "output_type": "execute_result"
    }
   ],
   "source": [
    "# declaring variables and callback functions\n",
    "broker_address=\"192.168.1.125\"\n",
    "\n",
    "topic=\"data_reading\"\n",
    "\n",
    "def on_message(client, userdata, message):\n",
    "    global rec_message\n",
    "    rec_message = str(message.payload.decode(\"utf-8\"))\n",
    "    #print(rec_message)\n",
    "    \n",
    "# create client instance\n",
    "# Client constructor: Client(client_id=\"\", clean_session=True, userdata=None, protocol=MQTTv311, transport=\"tcp\")\n",
    "client = mqtt.Client(\"ComputerClient\")\n",
    "#print(\"Created client instance\")\n",
    "\n",
    "# when client receives message, it generates an on_message callback\n",
    "client.on_message=on_message\n",
    "\n",
    "# connecting to broker\n",
    "client.connect(broker_address)\n",
    "#print(\"Connected to broker\")"
   ]
  },
  {
   "cell_type": "markdown",
   "id": "boring-calvin",
   "metadata": {},
   "source": [
    "# Setting up prediction"
   ]
  },
  {
   "cell_type": "code",
   "execution_count": 4,
   "id": "prerequisite-denmark",
   "metadata": {},
   "outputs": [
    {
     "data": {
      "text/plain": [
       "KNeighborsClassifier(weights='distance')"
      ]
     },
     "execution_count": 4,
     "metadata": {},
     "output_type": "execute_result"
    }
   ],
   "source": [
    "# Load the pickled model\n",
    "saved_model_name = \"knn_model_hrv_sc_1.sav\"\n",
    "\n",
    "clf = pickle.load(open(saved_model_name, 'rb'))\n",
    "clf"
   ]
  },
  {
   "cell_type": "code",
   "execution_count": 5,
   "id": "relative-conviction",
   "metadata": {},
   "outputs": [],
   "source": [
    "def find_rmssd(data):\n",
    "    rr_diff = np.diff(data)\n",
    "    rr_diff[-1] = 0\n",
    "    rr_sqdiff = np.power(rr_diff, 2)\n",
    "    rmssd = np.sqrt(np.mean(rr_sqdiff))\n",
    "    return rmssd"
   ]
  },
  {
   "cell_type": "code",
   "execution_count": 6,
   "id": "sufficient-camera",
   "metadata": {},
   "outputs": [],
   "source": [
    "def predict_live(model, dataframe, window_size):\n",
    "    \n",
    "    # grab moving window of data\n",
    "    size = len(dataframe.index)\n",
    "    if size >= window_size:\n",
    "        df = dataframe.iloc[-(window_size+1):].copy()\n",
    "    else:\n",
    "        df = dataframe.copy()\n",
    "            \n",
    "    # min-max norm\n",
    "    min_val_gsr = min(df['Conductance (uS)'])\n",
    "    max_val_gsr = max(df['Conductance (uS)'])\n",
    "    scaling_gsr = max_val_gsr-min_val_gsr\n",
    "    df.loc[:, 'Normalised_GSR'] = (df.loc[:, 'Conductance (uS)']- min_val_gsr)/scaling_gsr \n",
    "    \n",
    "    min_val_hr = min(df[\"Heart_Rate\"])\n",
    "    max_val_hr = max(df[\"Heart_Rate\"])\n",
    "    scaling_hr = max_val_hr-min_val_hr\n",
    "    df.loc[:, \"Normalised_HR\"] = (df.loc[:, \"Heart_Rate\"]- min_val_hr)/scaling_hr \n",
    "           \n",
    "    HR_data = df[\"Heart_Rate\"].to_numpy()\n",
    "    GSR_data = df[\"Conductance (uS)\"].to_numpy()\n",
    "    HR_norm_data = df[\"Normalised_HR\"].to_numpy()\n",
    "    GSR_norm_data = df[\"Normalised_GSR\"].to_numpy()\n",
    "    HRV_data = df[\"HRV\"].to_numpy()\n",
    "                \n",
    "    hr_mean = np.mean(HR_norm_data)       # hr mean\n",
    "    hr_std = np.std(HR_norm_data)         # hr std\n",
    "    hr_diff = max(HR_data) - min(HR_data) # hr diff\n",
    "    \n",
    "    hrv_mean = np.mean(HRV_data)          # hrv mean\n",
    "    hrv_std = np.std(HRV_data)            # hrv std\n",
    "    hrv_rmssd = find_rmssd(HRV_data)      # hrv rmssd\n",
    "    \n",
    "    gsr_mean = np.mean(GSR_norm_data)     # gsr mean\n",
    "    gsr_std = np.std(GSR_norm_data)       # gsr std\n",
    "        \n",
    "    # find gsr peaks\n",
    "    curr_peaks_ind, _ = find_peaks(GSR_norm_data)\n",
    "    curr_peaks = GSR_norm_data[curr_peaks_ind]\n",
    "    \n",
    "    gsr_num_peaks = len(curr_peaks)       # gsr num peaks\n",
    "    gsr_rate_peaks = gsr_num_peaks/len(GSR_norm_data)   # gsr rate peaks\n",
    "    gsr_mean_peaks = np.mean(curr_peaks)  # gsr mean peaks\n",
    "    gst_std_peaks = np.std(curr_peaks)    # gsr std peaks\n",
    "            \n",
    "    prediction = clf.predict(np.c_[hr_mean, hr_std, hr_diff, hrv_mean, hrv_std, hrv_rmssd, gsr_mean, gsr_std, gsr_rate_peaks, gsr_mean_peaks, gst_std_peaks])\n",
    "        \n",
    "    return prediction"
   ]
  },
  {
   "cell_type": "markdown",
   "id": "manual-pittsburgh",
   "metadata": {},
   "source": [
    "# Reading in data"
   ]
  },
  {
   "cell_type": "code",
   "execution_count": 13,
   "id": "controlled-northeast",
   "metadata": {},
   "outputs": [],
   "source": [
    "timeout = 5                       # Seconds\n",
    "# filename = \"assessment_test.csv\"\n",
    "tempname = \"rory_lab_8_1\"\n",
    "max_num_readings = 60*60            # Seconds\n",
    "\n",
    "r = re.compile(\"(?<==)([0-9]+)\")\n",
    "\n",
    "plotLength = 20"
   ]
  },
  {
   "cell_type": "code",
   "execution_count": null,
   "id": "freelance-knowing",
   "metadata": {
    "scrolled": true,
    "tags": []
   },
   "outputs": [
    {
     "name": "stdout",
     "output_type": "stream",
     "text": [
      "Recording Started\n",
      "Subscribed to topic data_reading\n"
     ]
    }
   ],
   "source": [
    "client.loop_start()\n",
    "print(\"Recording\"+ \" Started\")\n",
    "\n",
    "# run a loop otherwise, miss callbacks\n",
    "client.loop_start()\n",
    "\n",
    "# subscribing to topic\n",
    "client.subscribe(topic)\n",
    "print(\"Subscribed to topic\", topic)\n",
    "\n",
    "idx = 0\n",
    "hr_data = []\n",
    "hrv_data = []\n",
    "gsr_data = []\n",
    "resistance_data = []\n",
    "conductance_data = []\n",
    "prediction_data = []\n",
    "readings_left = True\n",
    "timeout_reached = False\n",
    "rec_message = \"\"\n",
    "\n",
    "df_predict = pd.DataFrame(columns = ['Time (hr:min:sec)', 'Time (s)', 'GSR', 'Resistance', 'Conductance (uS)', 'Heart_Rate', 'HRV', 'Section'])\n",
    "\n",
    "filename = tempname + \".csv\"\n",
    "\n",
    "with open(filename, \"w\", newline='', encoding='utf-8') as f:\n",
    "    writer = csv.writer(f, delimiter=',', quotechar='\"')\n",
    "    writer.writerow(['Time (hr:min:sec)', 'Time (s)', 'GSR', 'Resistance', 'Conductance (uS)', 'Heart_Rate', 'HRV', 'Section', 'Stressed'])\n",
    "    \n",
    "    while readings_left and not timeout_reached:\n",
    "        global rec_message\n",
    "        serial_line = rec_message\n",
    "        time.sleep(1)\n",
    "        try:\n",
    "            idx += 1\n",
    "            \n",
    "            match = re.findall(r, serial_line)\n",
    "            hr = int(match[0])\n",
    "            gsr = int(match[1])\n",
    "            batt = int(match[2])/100 # convert back to float\n",
    "            #print(batt)\n",
    "            #print(hr, gsr)\n",
    "\n",
    "            hr_data.append(hr)\n",
    "            \n",
    "            hrv = 60000/hr\n",
    "            hrv_data.append(hrv)\n",
    "\n",
    "            resistance = (2**10 + 2*gsr)/(2**9-gsr)*10000\n",
    "            gsr_data.append(gsr)\n",
    "            resistance_data.append(resistance)\n",
    "\n",
    "            conductance = 1/resistance*1000000\n",
    "            conductance_data.append(conductance)\n",
    "\n",
    "            if len(hr_data) >= max_num_readings:\n",
    "                readings_left = False\n",
    "                        \n",
    "            t = time.strftime(\"%H:%M:%S\", time.localtime())\n",
    "            df_predict.loc[idx] = [t, idx, gsr, resistance, conductance, hr, hrv, tempname]\n",
    "            \n",
    "            if len(hr_data) >= 3:\n",
    "                prediction = predict_live(clf, df_predict, 30)\n",
    "                pred = prediction[0]\n",
    "                prediction_data.append(pred)\n",
    "                if pred >= 5:\n",
    "                    print(batt, hr, gsr, pred, \"Stressed\")\n",
    "                else:\n",
    "                    print(batt, hr, gsr, pred, \"Not Stressed\")\n",
    "                        \n",
    "            writer.writerow([t, idx, gsr, resistance, conductance, hr, hrv, tempname, prediction_data[-1]])\n",
    "            \n",
    "        except:\n",
    "            continue        \n",
    "\n",
    "    print(\"Recording\" + \" Finished\")\n",
    "    \n",
    "    # stop MQTT loop\n",
    "    client.loop_stop()\n",
    "    "
   ]
  },
  {
   "cell_type": "code",
   "execution_count": null,
   "id": "contained-monroe",
   "metadata": {},
   "outputs": [],
   "source": [
    "client.loop_stop()"
   ]
  },
  {
   "cell_type": "markdown",
   "id": "driving-conditions",
   "metadata": {},
   "source": [
    "# Graphing data"
   ]
  },
  {
   "cell_type": "code",
   "execution_count": null,
   "id": "expected-freedom",
   "metadata": {},
   "outputs": [],
   "source": [
    "# First set up the figure, the axis, and the plot element we want to animate\n",
    "fig, ax = plt.subplots()\n",
    "\n",
    "times=np.arange(1, plotLength+1).tolist()\n",
    "voltages = []\n",
    "\n",
    "ax.set_xlim((0, plotLength))\n",
    "ax.set_ylim((0, 4000))\n",
    "ax.set_title('Feather Analog Read')\n",
    "ax.set_xlabel(\"time (s)\")\n",
    "ax.set_ylabel(\"Voltage (mV)\")\n",
    "\n",
    "xs = []\n",
    "ys = []\n",
    "\n",
    "line, = ax.plot([], [], lw=2)\n",
    "\n",
    "x_count = 0"
   ]
  },
  {
   "cell_type": "code",
   "execution_count": null,
   "id": "outstanding-seafood",
   "metadata": {},
   "outputs": [],
   "source": []
  }
 ],
 "metadata": {
  "kernelspec": {
   "display_name": "Python 3",
   "language": "python",
   "name": "python3"
  },
  "language_info": {
   "codemirror_mode": {
    "name": "ipython",
    "version": 3
   },
   "file_extension": ".py",
   "mimetype": "text/x-python",
   "name": "python",
   "nbconvert_exporter": "python",
   "pygments_lexer": "ipython3",
   "version": "3.8.2"
  }
 },
 "nbformat": 4,
 "nbformat_minor": 5
}
