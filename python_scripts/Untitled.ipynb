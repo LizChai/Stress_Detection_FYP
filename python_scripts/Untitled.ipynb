{
 "cells": [
  {
   "cell_type": "markdown",
   "id": "accurate-massachusetts",
   "metadata": {},
   "source": [
    "# Importing libraries"
   ]
  },
  {
   "cell_type": "code",
   "execution_count": 1,
   "id": "smart-flower",
   "metadata": {},
   "outputs": [],
   "source": [
    "#!/usr/bin/env python\n",
    "%matplotlib inline\n",
    "\n",
    "import serial\n",
    "import time\n",
    "import datetime as dt\n",
    "import collections\n",
    "import numpy as np\n",
    "import matplotlib.pyplot as plt\n",
    "from matplotlib import animation, rc\n",
    "from IPython.display import HTML\n",
    "\n",
    "import pandas as pd\n",
    "import re\n",
    "import csv"
   ]
  },
  {
   "cell_type": "markdown",
   "id": "solid-catholic",
   "metadata": {},
   "source": [
    "# Reading in data"
   ]
  },
  {
   "cell_type": "code",
   "execution_count": 2,
   "id": "unsigned-gallery",
   "metadata": {},
   "outputs": [],
   "source": [
    "portName = 'COM3'\n",
    "baudRate = 115200\n",
    "plotLength = 20\n",
    "timeout = 5                       # Seconds\n",
    "filename = \"data.csv\"\n",
    "max_num_readings = 10\n",
    "num_signals = 1"
   ]
  },
  {
   "cell_type": "code",
   "execution_count": 3,
   "id": "generic-waterproof",
   "metadata": {},
   "outputs": [],
   "source": [
    "ser = serial.Serial(portName, baudRate)"
   ]
  },
  {
   "cell_type": "code",
   "execution_count": 10,
   "id": "italic-mistake",
   "metadata": {},
   "outputs": [],
   "source": [
    "ser.flushInput()"
   ]
  },
  {
   "cell_type": "code",
   "execution_count": 11,
   "id": "metallic-ireland",
   "metadata": {},
   "outputs": [],
   "source": [
    "serial_data = []\n",
    "resistance_data = []\n",
    "time_data = []\n",
    "readings_left = True\n",
    "timeout_reached = False"
   ]
  },
  {
   "cell_type": "code",
   "execution_count": 12,
   "id": "blocked-essence",
   "metadata": {},
   "outputs": [],
   "source": [
    "# Testing code\n",
    "# for i in range(1000):\n",
    "\n",
    "#     voltage = ser.readline().decode(\"utf-8\").strip()\n",
    "#     print(voltage)"
   ]
  },
  {
   "cell_type": "code",
   "execution_count": 13,
   "id": "fiscal-tunisia",
   "metadata": {},
   "outputs": [
    {
     "name": "stdout",
     "output_type": "stream",
     "text": [
      "566\n",
      "-399259.2592592592\n",
      "565\n",
      "-406415.09433962265\n",
      "565\n",
      "-406415.09433962265\n",
      "566\n",
      "-399259.2592592592\n",
      "565\n",
      "-406415.09433962265\n",
      "565\n",
      "-406415.09433962265\n",
      "565\n",
      "-406415.09433962265\n",
      "566\n",
      "-399259.2592592592\n",
      "565\n",
      "-406415.09433962265\n",
      "571\n",
      "-367118.6440677966\n"
     ]
    }
   ],
   "source": [
    "while readings_left and not timeout_reached:\n",
    "    serial_line = int(ser.readline().decode(\"utf-8\").strip())\n",
    "    serial_data.append(serial_line)\n",
    "    resistance = (2**10 + 2*serial_line)/(2**9-serial_line)*10000\n",
    "    resistance_data.append(resistance)\n",
    "    print(serial_line, resistance)\n",
    "    \n",
    "    if serial_line == \"\":\n",
    "        timeout_reached = True\n",
    "    if len(serial_data) >= max_num_readings:\n",
    "        readings_left = False\n",
    "    "
   ]
  },
  {
   "cell_type": "code",
   "execution_count": null,
   "id": "flush-salad",
   "metadata": {},
   "outputs": [],
   "source": [
    "ser.close()"
   ]
  },
  {
   "cell_type": "code",
   "execution_count": null,
   "id": "exposed-entry",
   "metadata": {},
   "outputs": [],
   "source": [
    "print(serial_data)"
   ]
  },
  {
   "cell_type": "code",
   "execution_count": 14,
   "id": "artistic-rebound",
   "metadata": {},
   "outputs": [
    {
     "data": {
      "text/plain": [
       "512"
      ]
     },
     "execution_count": 14,
     "metadata": {},
     "output_type": "execute_result"
    }
   ],
   "source": [
    "2**9"
   ]
  },
  {
   "cell_type": "markdown",
   "id": "promotional-metropolitan",
   "metadata": {},
   "source": [
    "# Graphing data"
   ]
  },
  {
   "cell_type": "code",
   "execution_count": null,
   "id": "informational-apartment",
   "metadata": {},
   "outputs": [],
   "source": [
    "# First set up the figure, the axis, and the plot element we want to animate\n",
    "fig, ax = plt.subplots()\n",
    "\n",
    "times=np.arange(1, plotLength+1).tolist()\n",
    "voltages = []\n",
    "\n",
    "ax.set_xlim((0, plotLength))\n",
    "ax.set_ylim((0, 4000))\n",
    "ax.set_title('Feather Analog Read')\n",
    "ax.set_xlabel(\"time\")\n",
    "ax.set_ylabel(\"Voltage (mV)\")\n",
    "\n",
    "xs = []\n",
    "ys = []\n",
    "\n",
    "line, = ax.plot([], [], lw=2)\n",
    "\n",
    "x_count = 0"
   ]
  },
  {
   "cell_type": "code",
   "execution_count": null,
   "id": "behavioral-tobago",
   "metadata": {},
   "outputs": [],
   "source": [
    "# initialization function: plot the background of each frame\n",
    "def init():\n",
    "    line.set_data([], [])\n",
    "    return (line,)"
   ]
  },
  {
   "cell_type": "code",
   "execution_count": null,
   "id": "unnecessary-waterproof",
   "metadata": {},
   "outputs": [],
   "source": [
    "# animation function. This is called sequentially\n",
    "def animate(i, x_count, xs, ys):\n",
    "#     x = np.linspace(0, 20, 1000)\n",
    "#     y = np.sin(2 * np.pi * (x - 0.01 * i))\n",
    "#     curr_time = dt.datetime.now().strftime('%H:%M:%S')\n",
    "    voltage = int(ser.readline().decode(\"utf-8\").strip())\n",
    "    x_count = x_count + 1\n",
    "    \n",
    "    xs.append(x_count)\n",
    "    ys.append(voltage)\n",
    "    \n",
    "    xs = xs[-20:]\n",
    "    ys = ys[-20:]\n",
    "    \n",
    "    line.set_data(xs, ys)\n",
    "    return (line,)"
   ]
  },
  {
   "cell_type": "code",
   "execution_count": null,
   "id": "superb-canada",
   "metadata": {},
   "outputs": [],
   "source": [
    "# call the animator. blit=True means only re-draw the parts that have changed.\n",
    "anim = animation.FuncAnimation(fig, animate, fargs=(x_count, xs, ys), init_func=init,\n",
    "                               frames=100, interval=20, blit=True)"
   ]
  },
  {
   "cell_type": "code",
   "execution_count": null,
   "id": "confident-companion",
   "metadata": {},
   "outputs": [],
   "source": [
    "HTML(anim.to_jshtml())"
   ]
  },
  {
   "cell_type": "code",
   "execution_count": null,
   "id": "stock-highway",
   "metadata": {},
   "outputs": [],
   "source": []
  }
 ],
 "metadata": {
  "kernelspec": {
   "display_name": "Python 3",
   "language": "python",
   "name": "python3"
  },
  "language_info": {
   "codemirror_mode": {
    "name": "ipython",
    "version": 3
   },
   "file_extension": ".py",
   "mimetype": "text/x-python",
   "name": "python",
   "nbconvert_exporter": "python",
   "pygments_lexer": "ipython3",
   "version": "3.8.2"
  }
 },
 "nbformat": 4,
 "nbformat_minor": 5
}
