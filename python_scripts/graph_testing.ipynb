{
 "cells": [
  {
   "cell_type": "code",
   "execution_count": null,
   "id": "painted-forge",
   "metadata": {},
   "outputs": [],
   "source": [
    "#!/usr/bin/env python\n",
    "\n",
    "from threading import Thread\n",
    "import serial\n",
    "import time\n",
    "import collections\n",
    "import matplotlib.pyplot as plt\n",
    "import matplotlib.animation as animation\n",
    "import struct\n",
    "import pandas as pd"
   ]
  },
  {
   "cell_type": "code",
   "execution_count": null,
   "id": "finite-elizabeth",
   "metadata": {},
   "outputs": [],
   "source": [
    "#https://thepoorengineer.com/en/arduino-python-plot/#python\n",
    "\n",
    "class serialPlot:\n",
    "    def __init__(self, serialPort = '/dev/ttyUSB0', serialBaud = 38400, plotLength = 100, dataNumBytes = 2):\n",
    "        self.port = serialPort\n",
    "        self.baud = serialBaud\n",
    "        self.plotMaxLength = plotLength\n",
    "        self.dataNumBytes = dataNumBytes\n",
    "        self.rawData = bytearray(dataNumBytes)\n",
    "        self.data = collections.deque([0] * plotLength, maxlen=plotLength)\n",
    "        self.isRun = True\n",
    "        self.isReceiving = False\n",
    "        self.thread = None\n",
    "        self.plotTimer = 0\n",
    "        self.previousTimer = 0\n",
    "        # self.csvData = []\n",
    "\n",
    "        print('Trying to connect to: ' + str(serialPort) + ' at ' + str(serialBaud) + ' BAUD.')\n",
    "        try:\n",
    "            self.serialConnection = serial.Serial(serialPort, serialBaud, timeout=4)\n",
    "            print('Connected to ' + str(serialPort) + ' at ' + str(serialBaud) + ' BAUD.')\n",
    "        except:\n",
    "            print(\"Failed to connect with \" + str(serialPort) + ' at ' + str(serialBaud) + ' BAUD.')\n",
    "\n",
    "    def readSerialStart(self):\n",
    "        if self.thread == None:\n",
    "            self.thread = Thread(target=self.backgroundThread)\n",
    "            self.thread.start()\n",
    "            # Block till we start receiving values\n",
    "            while self.isReceiving != True:\n",
    "                time.sleep(0.1)\n",
    "\n",
    "    def getSerialData(self, frame, lines, lineValueText, lineLabel, timeText):\n",
    "        currentTimer = time.perf_counter()\n",
    "        self.plotTimer = int((currentTimer - self.previousTimer) * 1000)     # the first reading will be erroneous\n",
    "        self.previousTimer = currentTimer\n",
    "        timeText.set_text('Plot Interval = ' + str(self.plotTimer) + 'ms')\n",
    "        value,  = struct.unpack('f', self.rawData)    # use 'h' for a 2 byte integer\n",
    "        self.data.append(value)    # we get the latest data point and append it to our array\n",
    "        lines.set_data(range(self.plotMaxLength), self.data)\n",
    "        lineValueText.set_text('[' + lineLabel + '] = ' + str(value))\n",
    "        # self.csvData.append(self.data[-1])\n",
    "\n",
    "    def backgroundThread(self):    # retrieve data\n",
    "        time.sleep(1.0)  # give some buffer time for retrieving data\n",
    "        self.serialConnection.reset_input_buffer()\n",
    "        while (self.isRun):\n",
    "            self.serialConnection.readinto(self.rawData)\n",
    "            self.isReceiving = True\n",
    "            #print(self.rawData)\n",
    "            value,  = struct.unpack('f', self.rawData)    # use 'h' for a 2 byte integer\n",
    "            print(value)\n",
    "\n",
    "    def close(self):\n",
    "        self.isRun = False\n",
    "        self.thread.join()\n",
    "        self.serialConnection.close()\n",
    "        print('Disconnected...')\n",
    "        # df = pd.DataFrame(self.csvData)\n",
    "        # df.to_csv('/home/rikisenia/Desktop/data.csv')"
   ]
  },
  {
   "cell_type": "code",
   "execution_count": null,
   "id": "exotic-terry",
   "metadata": {},
   "outputs": [],
   "source": [
    "def main():\n",
    "    portName = 'COM3'     # for windows users\n",
    "    #portName = '/dev/ttyUSB0'\n",
    "    baudRate = 115200\n",
    "    maxPlotLength = 100\n",
    "    dataNumBytes = 4        # number of bytes of 1 data point\n",
    "    s = serialPlot(portName, baudRate, maxPlotLength, dataNumBytes)   # initializes all required variables\n",
    "    s.readSerialStart()                                               # starts background thread\n",
    "\n",
    "    # plotting starts below\n",
    "    pltInterval = 50    # Period at which the plot animation updates [ms]\n",
    "    xmin = 0\n",
    "    xmax = maxPlotLength\n",
    "    ymin = 0\n",
    "    ymax = 3\n",
    "    fig = plt.figure()\n",
    "    ax = plt.axes(xlim=(xmin, xmax), ylim=(float(ymin - (ymax - ymin) / 10), float(ymax + (ymax - ymin) / 10)))\n",
    "    ax.set_title('Feather Analog Read')\n",
    "    ax.set_xlabel(\"time\")\n",
    "    ax.set_ylabel(\"Voltage (V)\")\n",
    "\n",
    "    lineLabel = 'GSR Data'\n",
    "    timeText = ax.text(0.50, 3, '', transform=ax.transAxes)\n",
    "    lines = ax.plot([], [], label=lineLabel)[0]\n",
    "    lineValueText = ax.text(0.50, 0.90, '', transform=ax.transAxes)\n",
    "    anim = animation.FuncAnimation(fig, s.getSerialData, fargs=(lines, lineValueText, lineLabel, timeText), interval=pltInterval)    # fargs has to be a tuple\n",
    "\n",
    "    plt.legend(loc=\"upper left\")\n",
    "    plt.show()\n",
    "\n",
    "    s.close()"
   ]
  },
  {
   "cell_type": "code",
   "execution_count": null,
   "id": "focused-disability",
   "metadata": {},
   "outputs": [],
   "source": [
    "if __name__ == '__main__':\n",
    "    main()"
   ]
  },
  {
   "cell_type": "code",
   "execution_count": null,
   "id": "monetary-juice",
   "metadata": {},
   "outputs": [],
   "source": []
  },
  {
   "cell_type": "code",
   "execution_count": 15,
   "id": "impressive-preservation",
   "metadata": {},
   "outputs": [],
   "source": [
    "import serial\n",
    "import struct\n",
    "import time\n",
    "import datetime as dt\n",
    "import numpy as np\n",
    "import matplotlib.pyplot as plt\n",
    "import matplotlib.animation as animation\n",
    "from matplotlib import style\n",
    "from IPython.display import HTML\n"
   ]
  },
  {
   "cell_type": "code",
   "execution_count": 11,
   "id": "entitled-dealer",
   "metadata": {},
   "outputs": [],
   "source": [
    "ser = serial.Serial(portName, baudRate)"
   ]
  },
  {
   "cell_type": "code",
   "execution_count": 12,
   "id": "aging-schema",
   "metadata": {},
   "outputs": [],
   "source": [
    "def animate(i, xs, ys):\n",
    "#     curr_time = dt.datetime.now().strftime('%H:%M:%S.%f')\n",
    "    curr_time = dt.datetime.now().strftime('%H:%M:%S')\n",
    "    voltage = int(ser.readline().decode(\"utf-8\").strip())\n",
    "    \n",
    "    xs.append(curr_time)\n",
    "    ys.append(voltage)\n",
    "    \n",
    "    xs = xs[-20:]\n",
    "    ys = ys[-20:]\n",
    "    \n",
    "    xs.append(int(i))\n",
    "    ys.append(int(ser_bytes))\n",
    "    \n",
    "    ax.clear()\n",
    "    ax.plot(xs, ys)"
   ]
  },
  {
   "cell_type": "code",
   "execution_count": 13,
   "id": "answering-luxembourg",
   "metadata": {},
   "outputs": [
    {
     "data": {
      "image/png": "[encoded data removed]",
      "text/plain": [
       "<Figure size 432x288 with 1 Axes>"
      ]
     },
     "metadata": {
      "needs_background": "light"
     },
     "output_type": "display_data"
    }
   ],
   "source": [
    "portName = 'COM3'\n",
    "baudRate = 115200\n",
    "plotLength = 20\n",
    "\n",
    "times=np.arange(1, plotLength+1).tolist()\n",
    "voltages = []\n",
    "\n",
    "\n",
    "\n",
    "fig = plt.figure()\n",
    "xmin = 0\n",
    "xmax = plotLength\n",
    "ax = plt.axes(xlim=(xmin, xmax), ylim=(0, 3000))\n",
    "ax.set_title('Feather Analog Read')\n",
    "ax.set_xlabel(\"time\")\n",
    "ax.set_ylabel(\"Voltage (mV)\")\n",
    "\n",
    "xs = []\n",
    "ys = []\n",
    "\n",
    "# for i in range(plotLength):\n",
    "#     time.sleep(1)\n",
    "#     try:\n",
    "#         ser_bytes = ser.readline().decode(\"utf-8\").strip()\n",
    "#         print(ser_bytes, i)\n",
    "#         voltages.append(int(ser_bytes))\n",
    "        \n",
    "#     except:\n",
    "#         print(\"Keyboard Interrupt\")\n",
    "#         break\n",
    "\n",
    "ani = animation.FuncAnimation(fig, animate, fargs=(xs, ys), interval=1000)\n",
    "plt.show()\n",
    "\n",
    "#ser.close()"
   ]
  },
  {
   "cell_type": "code",
   "execution_count": 8,
   "id": "recent-opening",
   "metadata": {},
   "outputs": [],
   "source": [
    "ser.close()"
   ]
  },
  {
   "cell_type": "code",
   "execution_count": 16,
   "id": "saved-massachusetts",
   "metadata": {},
   "outputs": [
    {
     "ename": "RuntimeError",
     "evalue": "Requested MovieWriter (ffmpeg) not available",
     "output_type": "error",
     "traceback": [
      "\u001b[1;31m---------------------------------------------------------------------------\u001b[0m",
      "\u001b[1;31mRuntimeError\u001b[0m                              Traceback (most recent call last)",
      "\u001b[1;32m<ipython-input-16-f47e5100e4fd>\u001b[0m in \u001b[0;36m<module>\u001b[1;34m\u001b[0m\n\u001b[1;32m----> 1\u001b[1;33m \u001b[0mHTML\u001b[0m\u001b[1;33m(\u001b[0m\u001b[0mani\u001b[0m\u001b[1;33m.\u001b[0m\u001b[0mto_html5_video\u001b[0m\u001b[1;33m(\u001b[0m\u001b[1;33m)\u001b[0m\u001b[1;33m)\u001b[0m\u001b[1;33m\u001b[0m\u001b[1;33m\u001b[0m\u001b[0m\n\u001b[0m",
      "\u001b[1;32mc:\\users\\ieliz\\documents\\2021\\fyp\\stress_detection_fyp\\fyp_dev\\lib\\site-packages\\matplotlib\\animation.py\u001b[0m in \u001b[0;36mto_html5_video\u001b[1;34m(self, embed_limit)\u001b[0m\n\u001b[0;32m   1330\u001b[0m                 \u001b[1;31m# We create a writer manually so that we can get the\u001b[0m\u001b[1;33m\u001b[0m\u001b[1;33m\u001b[0m\u001b[1;33m\u001b[0m\u001b[0m\n\u001b[0;32m   1331\u001b[0m                 \u001b[1;31m# appropriate size for the tag\u001b[0m\u001b[1;33m\u001b[0m\u001b[1;33m\u001b[0m\u001b[1;33m\u001b[0m\u001b[0m\n\u001b[1;32m-> 1332\u001b[1;33m                 \u001b[0mWriter\u001b[0m \u001b[1;33m=\u001b[0m \u001b[0mwriters\u001b[0m\u001b[1;33m[\u001b[0m\u001b[0mmpl\u001b[0m\u001b[1;33m.\u001b[0m\u001b[0mrcParams\u001b[0m\u001b[1;33m[\u001b[0m\u001b[1;34m'animation.writer'\u001b[0m\u001b[1;33m]\u001b[0m\u001b[1;33m]\u001b[0m\u001b[1;33m\u001b[0m\u001b[1;33m\u001b[0m\u001b[0m\n\u001b[0m\u001b[0;32m   1333\u001b[0m                 writer = Writer(codec='h264',\n\u001b[0;32m   1334\u001b[0m                                 \u001b[0mbitrate\u001b[0m\u001b[1;33m=\u001b[0m\u001b[0mmpl\u001b[0m\u001b[1;33m.\u001b[0m\u001b[0mrcParams\u001b[0m\u001b[1;33m[\u001b[0m\u001b[1;34m'animation.bitrate'\u001b[0m\u001b[1;33m]\u001b[0m\u001b[1;33m,\u001b[0m\u001b[1;33m\u001b[0m\u001b[1;33m\u001b[0m\u001b[0m\n",
      "\u001b[1;32mc:\\users\\ieliz\\documents\\2021\\fyp\\stress_detection_fyp\\fyp_dev\\lib\\site-packages\\matplotlib\\animation.py\u001b[0m in \u001b[0;36m__getitem__\u001b[1;34m(self, name)\u001b[0m\n\u001b[0;32m    164\u001b[0m         \u001b[1;32mif\u001b[0m \u001b[0mself\u001b[0m\u001b[1;33m.\u001b[0m\u001b[0mis_available\u001b[0m\u001b[1;33m(\u001b[0m\u001b[0mname\u001b[0m\u001b[1;33m)\u001b[0m\u001b[1;33m:\u001b[0m\u001b[1;33m\u001b[0m\u001b[1;33m\u001b[0m\u001b[0m\n\u001b[0;32m    165\u001b[0m             \u001b[1;32mreturn\u001b[0m \u001b[0mself\u001b[0m\u001b[1;33m.\u001b[0m\u001b[0m_registered\u001b[0m\u001b[1;33m[\u001b[0m\u001b[0mname\u001b[0m\u001b[1;33m]\u001b[0m\u001b[1;33m\u001b[0m\u001b[1;33m\u001b[0m\u001b[0m\n\u001b[1;32m--> 166\u001b[1;33m         \u001b[1;32mraise\u001b[0m \u001b[0mRuntimeError\u001b[0m\u001b[1;33m(\u001b[0m\u001b[1;34mf\"Requested MovieWriter ({name}) not available\"\u001b[0m\u001b[1;33m)\u001b[0m\u001b[1;33m\u001b[0m\u001b[1;33m\u001b[0m\u001b[0m\n\u001b[0m\u001b[0;32m    167\u001b[0m \u001b[1;33m\u001b[0m\u001b[0m\n\u001b[0;32m    168\u001b[0m \u001b[1;33m\u001b[0m\u001b[0m\n",
      "\u001b[1;31mRuntimeError\u001b[0m: Requested MovieWriter (ffmpeg) not available"
     ]
    }
   ],
   "source": [
    "HTML(ani.to_html5_video())\n"
   ]
  },
  {
   "cell_type": "code",
   "execution_count": 14,
   "id": "vertical-pastor",
   "metadata": {},
   "outputs": [
    {
     "ename": "ValueError",
     "evalue": "x and y must have same first dimension, but have shapes (20,) and (0,)",
     "output_type": "error",
     "traceback": [
      "\u001b[1;31m---------------------------------------------------------------------------\u001b[0m",
      "\u001b[1;31mValueError\u001b[0m                                Traceback (most recent call last)",
      "\u001b[1;32m<ipython-input-14-30455562b576>\u001b[0m in \u001b[0;36m<module>\u001b[1;34m\u001b[0m\n\u001b[1;32m----> 1\u001b[1;33m \u001b[0mplt\u001b[0m\u001b[1;33m.\u001b[0m\u001b[0mplot\u001b[0m\u001b[1;33m(\u001b[0m\u001b[0mtimes\u001b[0m\u001b[1;33m,\u001b[0m \u001b[0mvoltages\u001b[0m\u001b[1;33m,\u001b[0m \u001b[1;34m'ro'\u001b[0m\u001b[1;33m)\u001b[0m\u001b[1;33m\u001b[0m\u001b[1;33m\u001b[0m\u001b[0m\n\u001b[0m",
      "\u001b[1;32mc:\\users\\ieliz\\documents\\2021\\fyp\\stress_detection_fyp\\fyp_dev\\lib\\site-packages\\matplotlib\\pyplot.py\u001b[0m in \u001b[0;36mplot\u001b[1;34m(scalex, scaley, data, *args, **kwargs)\u001b[0m\n\u001b[0;32m   2838\u001b[0m \u001b[1;33m@\u001b[0m\u001b[0m_copy_docstring_and_deprecators\u001b[0m\u001b[1;33m(\u001b[0m\u001b[0mAxes\u001b[0m\u001b[1;33m.\u001b[0m\u001b[0mplot\u001b[0m\u001b[1;33m)\u001b[0m\u001b[1;33m\u001b[0m\u001b[1;33m\u001b[0m\u001b[0m\n\u001b[0;32m   2839\u001b[0m \u001b[1;32mdef\u001b[0m \u001b[0mplot\u001b[0m\u001b[1;33m(\u001b[0m\u001b[1;33m*\u001b[0m\u001b[0margs\u001b[0m\u001b[1;33m,\u001b[0m \u001b[0mscalex\u001b[0m\u001b[1;33m=\u001b[0m\u001b[1;32mTrue\u001b[0m\u001b[1;33m,\u001b[0m \u001b[0mscaley\u001b[0m\u001b[1;33m=\u001b[0m\u001b[1;32mTrue\u001b[0m\u001b[1;33m,\u001b[0m \u001b[0mdata\u001b[0m\u001b[1;33m=\u001b[0m\u001b[1;32mNone\u001b[0m\u001b[1;33m,\u001b[0m \u001b[1;33m**\u001b[0m\u001b[0mkwargs\u001b[0m\u001b[1;33m)\u001b[0m\u001b[1;33m:\u001b[0m\u001b[1;33m\u001b[0m\u001b[1;33m\u001b[0m\u001b[0m\n\u001b[1;32m-> 2840\u001b[1;33m     return gca().plot(\n\u001b[0m\u001b[0;32m   2841\u001b[0m         \u001b[1;33m*\u001b[0m\u001b[0margs\u001b[0m\u001b[1;33m,\u001b[0m \u001b[0mscalex\u001b[0m\u001b[1;33m=\u001b[0m\u001b[0mscalex\u001b[0m\u001b[1;33m,\u001b[0m \u001b[0mscaley\u001b[0m\u001b[1;33m=\u001b[0m\u001b[0mscaley\u001b[0m\u001b[1;33m,\u001b[0m\u001b[1;33m\u001b[0m\u001b[1;33m\u001b[0m\u001b[0m\n\u001b[0;32m   2842\u001b[0m         **({\"data\": data} if data is not None else {}), **kwargs)\n",
      "\u001b[1;32mc:\\users\\ieliz\\documents\\2021\\fyp\\stress_detection_fyp\\fyp_dev\\lib\\site-packages\\matplotlib\\axes\\_axes.py\u001b[0m in \u001b[0;36mplot\u001b[1;34m(self, scalex, scaley, data, *args, **kwargs)\u001b[0m\n\u001b[0;32m   1741\u001b[0m         \"\"\"\n\u001b[0;32m   1742\u001b[0m         \u001b[0mkwargs\u001b[0m \u001b[1;33m=\u001b[0m \u001b[0mcbook\u001b[0m\u001b[1;33m.\u001b[0m\u001b[0mnormalize_kwargs\u001b[0m\u001b[1;33m(\u001b[0m\u001b[0mkwargs\u001b[0m\u001b[1;33m,\u001b[0m \u001b[0mmlines\u001b[0m\u001b[1;33m.\u001b[0m\u001b[0mLine2D\u001b[0m\u001b[1;33m)\u001b[0m\u001b[1;33m\u001b[0m\u001b[1;33m\u001b[0m\u001b[0m\n\u001b[1;32m-> 1743\u001b[1;33m         \u001b[0mlines\u001b[0m \u001b[1;33m=\u001b[0m \u001b[1;33m[\u001b[0m\u001b[1;33m*\u001b[0m\u001b[0mself\u001b[0m\u001b[1;33m.\u001b[0m\u001b[0m_get_lines\u001b[0m\u001b[1;33m(\u001b[0m\u001b[1;33m*\u001b[0m\u001b[0margs\u001b[0m\u001b[1;33m,\u001b[0m \u001b[0mdata\u001b[0m\u001b[1;33m=\u001b[0m\u001b[0mdata\u001b[0m\u001b[1;33m,\u001b[0m \u001b[1;33m**\u001b[0m\u001b[0mkwargs\u001b[0m\u001b[1;33m)\u001b[0m\u001b[1;33m]\u001b[0m\u001b[1;33m\u001b[0m\u001b[1;33m\u001b[0m\u001b[0m\n\u001b[0m\u001b[0;32m   1744\u001b[0m         \u001b[1;32mfor\u001b[0m \u001b[0mline\u001b[0m \u001b[1;32min\u001b[0m \u001b[0mlines\u001b[0m\u001b[1;33m:\u001b[0m\u001b[1;33m\u001b[0m\u001b[1;33m\u001b[0m\u001b[0m\n\u001b[0;32m   1745\u001b[0m             \u001b[0mself\u001b[0m\u001b[1;33m.\u001b[0m\u001b[0madd_line\u001b[0m\u001b[1;33m(\u001b[0m\u001b[0mline\u001b[0m\u001b[1;33m)\u001b[0m\u001b[1;33m\u001b[0m\u001b[1;33m\u001b[0m\u001b[0m\n",
      "\u001b[1;32mc:\\users\\ieliz\\documents\\2021\\fyp\\stress_detection_fyp\\fyp_dev\\lib\\site-packages\\matplotlib\\axes\\_base.py\u001b[0m in \u001b[0;36m__call__\u001b[1;34m(self, data, *args, **kwargs)\u001b[0m\n\u001b[0;32m    271\u001b[0m                 \u001b[0mthis\u001b[0m \u001b[1;33m+=\u001b[0m \u001b[0margs\u001b[0m\u001b[1;33m[\u001b[0m\u001b[1;36m0\u001b[0m\u001b[1;33m]\u001b[0m\u001b[1;33m,\u001b[0m\u001b[1;33m\u001b[0m\u001b[1;33m\u001b[0m\u001b[0m\n\u001b[0;32m    272\u001b[0m                 \u001b[0margs\u001b[0m \u001b[1;33m=\u001b[0m \u001b[0margs\u001b[0m\u001b[1;33m[\u001b[0m\u001b[1;36m1\u001b[0m\u001b[1;33m:\u001b[0m\u001b[1;33m]\u001b[0m\u001b[1;33m\u001b[0m\u001b[1;33m\u001b[0m\u001b[0m\n\u001b[1;32m--> 273\u001b[1;33m             \u001b[1;32myield\u001b[0m \u001b[1;32mfrom\u001b[0m \u001b[0mself\u001b[0m\u001b[1;33m.\u001b[0m\u001b[0m_plot_args\u001b[0m\u001b[1;33m(\u001b[0m\u001b[0mthis\u001b[0m\u001b[1;33m,\u001b[0m \u001b[0mkwargs\u001b[0m\u001b[1;33m)\u001b[0m\u001b[1;33m\u001b[0m\u001b[1;33m\u001b[0m\u001b[0m\n\u001b[0m\u001b[0;32m    274\u001b[0m \u001b[1;33m\u001b[0m\u001b[0m\n\u001b[0;32m    275\u001b[0m     \u001b[1;32mdef\u001b[0m \u001b[0mget_next_color\u001b[0m\u001b[1;33m(\u001b[0m\u001b[0mself\u001b[0m\u001b[1;33m)\u001b[0m\u001b[1;33m:\u001b[0m\u001b[1;33m\u001b[0m\u001b[1;33m\u001b[0m\u001b[0m\n",
      "\u001b[1;32mc:\\users\\ieliz\\documents\\2021\\fyp\\stress_detection_fyp\\fyp_dev\\lib\\site-packages\\matplotlib\\axes\\_base.py\u001b[0m in \u001b[0;36m_plot_args\u001b[1;34m(self, tup, kwargs)\u001b[0m\n\u001b[0;32m    397\u001b[0m \u001b[1;33m\u001b[0m\u001b[0m\n\u001b[0;32m    398\u001b[0m         \u001b[1;32mif\u001b[0m \u001b[0mx\u001b[0m\u001b[1;33m.\u001b[0m\u001b[0mshape\u001b[0m\u001b[1;33m[\u001b[0m\u001b[1;36m0\u001b[0m\u001b[1;33m]\u001b[0m \u001b[1;33m!=\u001b[0m \u001b[0my\u001b[0m\u001b[1;33m.\u001b[0m\u001b[0mshape\u001b[0m\u001b[1;33m[\u001b[0m\u001b[1;36m0\u001b[0m\u001b[1;33m]\u001b[0m\u001b[1;33m:\u001b[0m\u001b[1;33m\u001b[0m\u001b[1;33m\u001b[0m\u001b[0m\n\u001b[1;32m--> 399\u001b[1;33m             raise ValueError(f\"x and y must have same first dimension, but \"\n\u001b[0m\u001b[0;32m    400\u001b[0m                              f\"have shapes {x.shape} and {y.shape}\")\n\u001b[0;32m    401\u001b[0m         \u001b[1;32mif\u001b[0m \u001b[0mx\u001b[0m\u001b[1;33m.\u001b[0m\u001b[0mndim\u001b[0m \u001b[1;33m>\u001b[0m \u001b[1;36m2\u001b[0m \u001b[1;32mor\u001b[0m \u001b[0my\u001b[0m\u001b[1;33m.\u001b[0m\u001b[0mndim\u001b[0m \u001b[1;33m>\u001b[0m \u001b[1;36m2\u001b[0m\u001b[1;33m:\u001b[0m\u001b[1;33m\u001b[0m\u001b[1;33m\u001b[0m\u001b[0m\n",
      "\u001b[1;31mValueError\u001b[0m: x and y must have same first dimension, but have shapes (20,) and (0,)"
     ]
    },
    {
     "data": {
      "image/png": "[encoded data removed]",
      "text/plain": [
       "<Figure size 432x288 with 1 Axes>"
      ]
     },
     "metadata": {
      "needs_background": "light"
     },
     "output_type": "display_data"
    }
   ],
   "source": [
    "\n",
    "\n",
    "ani = animation.FuncAnimation(fig, animate, interval=100)\n",
    "plt.show()\n",
    "\n",
    "\n",
    "#plt.plot(time, voltages, 'ro')"
   ]
  },
  {
   "cell_type": "code",
   "execution_count": 9,
   "id": "coastal-passage",
   "metadata": {},
   "outputs": [
    {
     "name": "stdout",
     "output_type": "stream",
     "text": [
      "[] []\n"
     ]
    }
   ],
   "source": [
    "print(xs, ys)"
   ]
  },
  {
   "cell_type": "code",
   "execution_count": null,
   "id": "boxed-penetration",
   "metadata": {},
   "outputs": [],
   "source": []
  }
 ],
 "metadata": {
  "kernelspec": {
   "display_name": "Python 3",
   "language": "python",
   "name": "python3"
  },
  "language_info": {
   "codemirror_mode": {
    "name": "ipython",
    "version": 3
   },
   "file_extension": ".py",
   "mimetype": "text/x-python",
   "name": "python",
   "nbconvert_exporter": "python",
   "pygments_lexer": "ipython3",
   "version": "3.8.2"
  }
 },
 "nbformat": 4,
 "nbformat_minor": 5
}
