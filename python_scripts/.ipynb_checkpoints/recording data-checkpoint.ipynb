{
 "cells": [
  {
   "cell_type": "markdown",
   "id": "subtle-nature",
   "metadata": {},
   "source": [
    "# Importing libraries"
   ]
  },
  {
   "cell_type": "code",
   "execution_count": 1,
   "id": "governing-textbook",
   "metadata": {},
   "outputs": [],
   "source": [
    "#!/usr/bin/env python\n",
    "%matplotlib inline\n",
    "\n",
    "import serial\n",
    "import time\n",
    "import datetime as dt\n",
    "import collections\n",
    "import numpy as np\n",
    "import matplotlib.pyplot as plt\n",
    "from matplotlib import animation, rc\n",
    "from IPython.display import HTML\n",
    "\n",
    "import pandas as pd\n",
    "import re\n",
    "import csv"
   ]
  },
  {
   "cell_type": "markdown",
   "id": "lucky-penetration",
   "metadata": {},
   "source": [
    "# Reading in data"
   ]
  },
  {
   "cell_type": "code",
   "execution_count": 2,
   "id": "foreign-distribution",
   "metadata": {},
   "outputs": [],
   "source": [
    "portName = 'COM3'\n",
    "baudRate = 115200\n",
    "plotLength = 20\n",
    "timeout = 5                       # Seconds\n",
    "# filename = \"assessment_test.csv\"\n",
    "tempname = \"general\"\n",
    "max_num_readings = 20*60             # Seconds\n",
    "num_signals = 1"
   ]
  },
  {
   "cell_type": "code",
   "execution_count": 3,
   "id": "casual-routine",
   "metadata": {},
   "outputs": [],
   "source": [
    "ser = serial.Serial(portName, baudRate)"
   ]
  },
  {
   "cell_type": "code",
   "execution_count": 5,
   "id": "annoying-matter",
   "metadata": {},
   "outputs": [],
   "source": [
    "ser.flushInput()"
   ]
  },
  {
   "cell_type": "code",
   "execution_count": 6,
   "id": "living-pointer",
   "metadata": {},
   "outputs": [
    {
     "name": "stdout",
     "output_type": "stream",
     "text": [
      "Recording 0 Started\n",
      "Recording 0 Finished\n",
      "Recording 1 Started\n",
      "Recording 1 Finished\n",
      "Recording 2 Started\n",
      "Recording 2 Finished\n",
      "Recording 3 Started\n",
      "Recording 3 Finished\n"
     ]
    }
   ],
   "source": [
    "for i in range(4):\n",
    "    ser.flushInput()\n",
    "    serial_data = []\n",
    "    resistance_data = []\n",
    "    readings_left = True\n",
    "    timeout_reached = False\n",
    "    filename = tempname + str(i) + \".csv\"\n",
    "    print(\"Recording \" + str(i) + \" Started\")\n",
    "    \n",
    "    while readings_left and not timeout_reached:\n",
    "        serial_line = int(ser.readline().decode(\"utf-8\").strip())\n",
    "        serial_data.append(serial_line)\n",
    "        resistance = (2**10 + 2*serial_line)/(2**9-serial_line)*10000\n",
    "        resistance_data.append(resistance)\n",
    "\n",
    "        if serial_line == \"\":\n",
    "            timeout_reached = True\n",
    "        if len(serial_data) >= max_num_readings:\n",
    "            readings_left = False\n",
    "            \n",
    "    print(\"Recording \" + str(i) + \" Finished\")\n",
    "    times=np.arange(1, len(serial_data)+1).tolist()\n",
    "    df = pd.DataFrame(list(zip(times, serial_data, resistance_data)), columns = ['Time (s)', 'Serial data', 'Resistance'])\n",
    "    df.to_csv(filename, index=False)\n",
    "ser.close()"
   ]
  },
  {
   "cell_type": "code",
   "execution_count": null,
   "id": "surprised-alignment",
   "metadata": {},
   "outputs": [],
   "source": [
    "# serial_data = []\n",
    "# resistance_data = []\n",
    "# time_data = []\n",
    "# readings_left = True\n",
    "# timeout_reached = False"
   ]
  },
  {
   "cell_type": "code",
   "execution_count": null,
   "id": "absolute-ridge",
   "metadata": {},
   "outputs": [],
   "source": [
    "# while readings_left and not timeout_reached:\n",
    "#     serial_line = int(ser.readline().decode(\"utf-8\").strip())\n",
    "#     serial_data.append(serial_line)\n",
    "#     resistance = (2**10 + 2*serial_line)/(2**9-serial_line)*10000\n",
    "#     resistance_data.append(resistance)\n",
    "#     print(serial_line, resistance)\n",
    "    \n",
    "#     if serial_line == \"\":\n",
    "#         timeout_reached = True\n",
    "#     if len(serial_data) >= max_num_readings:\n",
    "#         readings_left = False"
   ]
  },
  {
   "cell_type": "code",
   "execution_count": null,
   "id": "sophisticated-female",
   "metadata": {},
   "outputs": [],
   "source": [
    "ser.close()"
   ]
  },
  {
   "cell_type": "code",
   "execution_count": null,
   "id": "central-arcade",
   "metadata": {},
   "outputs": [],
   "source": [
    "# times=np.arange(1, len(serial_data)+1).tolist()\n",
    "\n",
    "# fig, ax = plt.subplots()\n",
    "# ax.set_xlim((0, max_num_readings))\n",
    "# ax.set_ylim((0, 1023))\n",
    "# ax.set_title('Feather Analog Read')\n",
    "# ax.set_xlabel(\"time (s)\")\n",
    "# ax.set_ylabel(\"Voltage (analogue reading)\")\n",
    "# ax.plot(times, serial_data)"
   ]
  },
  {
   "cell_type": "code",
   "execution_count": null,
   "id": "built-steal",
   "metadata": {},
   "outputs": [],
   "source": [
    "# df = pd.DataFrame(list(zip(times, serial_data, resistance_data)), columns = ['Time (s)', 'Serial data', 'Resistance'])"
   ]
  },
  {
   "cell_type": "code",
   "execution_count": null,
   "id": "sitting-audience",
   "metadata": {},
   "outputs": [],
   "source": [
    "# df.to_csv(filename, index=False)"
   ]
  },
  {
   "cell_type": "markdown",
   "id": "attractive-activity",
   "metadata": {},
   "source": [
    "# Graphing data"
   ]
  },
  {
   "cell_type": "code",
   "execution_count": null,
   "id": "forward-repository",
   "metadata": {},
   "outputs": [],
   "source": [
    "# First set up the figure, the axis, and the plot element we want to animate\n",
    "fig, ax = plt.subplots()\n",
    "\n",
    "times=np.arange(1, plotLength+1).tolist()\n",
    "voltages = []\n",
    "\n",
    "ax.set_xlim((0, plotLength))\n",
    "ax.set_ylim((0, 4000))\n",
    "ax.set_title('Feather Analog Read')\n",
    "ax.set_xlabel(\"time (s)\")\n",
    "ax.set_ylabel(\"Voltage (mV)\")\n",
    "\n",
    "xs = []\n",
    "ys = []\n",
    "\n",
    "line, = ax.plot([], [], lw=2)\n",
    "\n",
    "x_count = 0"
   ]
  },
  {
   "cell_type": "code",
   "execution_count": null,
   "id": "massive-executive",
   "metadata": {},
   "outputs": [],
   "source": [
    "# initialization function: plot the background of each frame\n",
    "def init():\n",
    "    line.set_data([], [])\n",
    "    return (line,)"
   ]
  },
  {
   "cell_type": "code",
   "execution_count": null,
   "id": "automotive-project",
   "metadata": {},
   "outputs": [],
   "source": [
    "# animation function. This is called sequentially\n",
    "def animate(i, x_count, xs, ys):\n",
    "#     x = np.linspace(0, 20, 1000)\n",
    "#     y = np.sin(2 * np.pi * (x - 0.01 * i))\n",
    "#     curr_time = dt.datetime.now().strftime('%H:%M:%S')\n",
    "    voltage = int(ser.readline().decode(\"utf-8\").strip())\n",
    "    x_count = x_count + 1\n",
    "    \n",
    "    xs.append(x_count)\n",
    "    ys.append(voltage)\n",
    "    \n",
    "    xs = xs[-20:]\n",
    "    ys = ys[-20:]\n",
    "    \n",
    "    line.set_data(xs, ys)\n",
    "    return (line,)"
   ]
  },
  {
   "cell_type": "code",
   "execution_count": null,
   "id": "mediterranean-penalty",
   "metadata": {},
   "outputs": [],
   "source": [
    "# call the animator. blit=True means only re-draw the parts that have changed.\n",
    "anim = animation.FuncAnimation(fig, animate, fargs=(x_count, xs, ys), init_func=init,\n",
    "                               frames=100, interval=20, blit=True)"
   ]
  },
  {
   "cell_type": "code",
   "execution_count": null,
   "id": "reliable-swing",
   "metadata": {},
   "outputs": [],
   "source": [
    "HTML(anim.to_jshtml())"
   ]
  },
  {
   "cell_type": "code",
   "execution_count": null,
   "id": "minute-transfer",
   "metadata": {},
   "outputs": [],
   "source": []
  }
 ],
 "metadata": {
  "kernelspec": {
   "display_name": "Python 3",
   "language": "python",
   "name": "python3"
  },
  "language_info": {
   "codemirror_mode": {
    "name": "ipython",
    "version": 3
   },
   "file_extension": ".py",
   "mimetype": "text/x-python",
   "name": "python",
   "nbconvert_exporter": "python",
   "pygments_lexer": "ipython3",
   "version": "3.8.2"
  }
 },
 "nbformat": 4,
 "nbformat_minor": 5
}
