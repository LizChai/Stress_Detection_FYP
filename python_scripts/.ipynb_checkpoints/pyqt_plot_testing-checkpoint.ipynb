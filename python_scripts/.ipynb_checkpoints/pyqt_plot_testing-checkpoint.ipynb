{
 "cells": [
  {
   "cell_type": "code",
   "execution_count": 1,
   "id": "given-daily",
   "metadata": {},
   "outputs": [],
   "source": [
    "import pandas as pd\n",
    "import csv\n",
    "import time"
   ]
  },
  {
   "cell_type": "code",
   "execution_count": 2,
   "id": "collaborative-application",
   "metadata": {},
   "outputs": [],
   "source": [
    "filename = \"lab_fri_4.csv\"\n",
    "df = pd.read_csv(filename)\n",
    "\n",
    "times = df[\"Time (s)\"].to_numpy()\n",
    "hr = df[\"Heart_Rate\"].to_numpy()\n",
    "gsr = df[\"Conductance (uS)\"].to_numpy()"
   ]
  },
  {
   "cell_type": "code",
   "execution_count": 3,
   "id": "august-contact",
   "metadata": {},
   "outputs": [],
   "source": [
    "from pyqtgraph.Qt import QtGui, QtCore\n",
    "import numpy as np\n",
    "import pyqtgraph as pg"
   ]
  },
  {
   "cell_type": "code",
   "execution_count": 4,
   "id": "collective-longer",
   "metadata": {},
   "outputs": [],
   "source": [
    "data_gsr = gsr\n",
    "data_hr = hr\n",
    "ptr=0\n",
    "frame=60"
   ]
  },
  {
   "cell_type": "code",
   "execution_count": 5,
   "id": "wooden-pencil",
   "metadata": {},
   "outputs": [],
   "source": [
    "# class DataFeed(QtCore.QObject):\n",
    "#     data_signal = QtCore.pyqtSignal(str)\n",
    "    \n",
    "#     @QtCore.pyqtSlot()\n",
    "#     def collect_data(self):\n",
    "#         while True:\n",
    "#             self.data_signal.emit(data_hr[ptr:ptr+frame])\n",
    "#             ptr+=1\n",
    "\n",
    "# def data_callback(rec_data):\n",
    "#     print(rec_data+'...')"
   ]
  },
  {
   "cell_type": "code",
   "execution_count": 6,
   "id": "personalized-adrian",
   "metadata": {},
   "outputs": [],
   "source": [
    "# data_feed = DataFeed()\n",
    "# data_thread = QtCore.QThread()\n",
    "\n",
    "# data_feed.data_signal.connect(data_callback)\n",
    "# data_feed.moveToThread(data_thread)\n",
    "# data_thread.started.connect(data_feed.collect_data)\n",
    "# data_thread.start()"
   ]
  },
  {
   "cell_type": "code",
   "execution_count": 7,
   "id": "forbidden-library",
   "metadata": {},
   "outputs": [],
   "source": [
    "class Worker(QtCore.QRunnable):\n",
    "    '''\n",
    "    Worker Thread\n",
    "    \n",
    "    Inherits from QRunnable to handler worker thread setup, signals and wrap-up.\n",
    "    \n",
    "    :param args: Arguments to make available to the run code\n",
    "    :param kwargs: Keywords arguments to make available to the run code\n",
    "\n",
    "    Container for work being performed\n",
    "    '''\n",
    "    \n",
    "    def __init__(self, *args, **kwargs):\n",
    "        super(Worker, self).__init__()\n",
    "        self.args = args\n",
    "        self.kwargs = kwargs\n",
    "    \n",
    "    @QtCore.pyqtSlot()\n",
    "    def run(self):\n",
    "        print(\"Thread start\")\n",
    "        time.sleep(1) # perform work\n",
    "        print(\"Thread complete\")"
   ]
  },
  {
   "cell_type": "code",
   "execution_count": 8,
   "id": "trained-translation",
   "metadata": {},
   "outputs": [],
   "source": [
    "class MainGUI():\n",
    "    def __init__(self):        \n",
    "        self.win = pg.GraphicsLayoutWidget(show=True, title=\"Stress Detection\")\n",
    "        self.win.title=\"Stress Detection\"\n",
    "        self.win.resize(1000,600)\n",
    "        self.win.setWindowTitle('Stress Detection')\n",
    "        \n",
    "        self.ptr = 0\n",
    "        self.frame = 60\n",
    "        \n",
    "        self.p1 = self.win.addPlot(title=\"Heart Rate\")\n",
    "        self.curve_hr = self.p1.plot(pen=(255,0,0))\n",
    "        self.p1.setLabel('left', \"Heart Rate\", units='BPM')\n",
    "        self.p1.setLabel('bottom', \"Time\", units='s')\n",
    "        \n",
    "        self.label_hr = pg.LabelItem(justify='right')\n",
    "        self.win.addItem(self.label_hr)\n",
    "\n",
    "        self.win.nextRow()\n",
    "\n",
    "        self.p2 = self.win.addPlot(title=\"Galvanic Skin Response\")\n",
    "        self.curve_gsr = self.p2.plot(pen=(0,255,0))\n",
    "        self.p2.setLabel('left', \"GSR\", units='uC')\n",
    "        self.p2.setLabel('bottom', \"Time\", units='s')\n",
    "\n",
    "        self.label_gsr = pg.LabelItem(justify='right')\n",
    "        self.win.addItem(self.label_gsr)\n",
    "\n",
    "        # self.label_battery = pg.LabelItem(justify='right')\n",
    "        # self.win.addItem(self.label_battery)\n",
    "\n",
    "        # self.label_stress_lev = pg.LabelItem(justify='right')\n",
    "        # self.win.addItem(self.label_stress_lev)\n",
    "\n",
    "        # self.label_stress_lab = pg.LabelItem(justify='right')\n",
    "        # self.win.addItem(self.label_stress_lab)\n",
    "\n",
    "#         self.win.nextRow()\n",
    "        \n",
    "        self.threadpool = QtCore.QThreadPool()\n",
    "        print(\"Multithreading with maximum %d threads\" % self.threadpool.maxThreadCount())\n",
    "\n",
    "        self.timer = QtCore.QTimer()\n",
    "        self.timer.timeout.connect(self.update)\n",
    "        self.timer.start(200)\n",
    "        \n",
    "    def update(self):\n",
    "        worker = Worker()\n",
    "        self.threadpool.start(worker)\n",
    "        \n",
    "        global data_hr, data_gsr\n",
    "        self.curve_hr.setData(data_hr[self.ptr:self.ptr+self.frame])\n",
    "        self.curve_gsr.setData(data_gsr[self.ptr:self.ptr+self.frame])\n",
    "        if self.ptr == 0:\n",
    "            self.p1.setYRange(40, 140)\n",
    "            self.p2.setYRange(5, 14)\n",
    "        self.ptr += 1\n",
    "        self.label_hr.setText(\"Heart Rate (BPM): \"+str(data_hr[self.ptr+self.frame]), size='24pt')\n",
    "        self.label_gsr.setText(\"GSR (uC): \"+(str(data_gsr[self.ptr+self.frame]))[:5], size='24pt')\n",
    "    #      self.label_battery.setText(\"Batt (V): \"+str(batt), size='18pt')\n",
    "    #      self.label_stress_lev.setText(\"Stress level: \"+str(stress_lev), size='24pt')\n",
    "    #      self.label_stress_lab.setText(\"Stress label: \"+str(stress_lab), size='24pt')\n"
   ]
  },
  {
   "cell_type": "code",
   "execution_count": 9,
   "id": "involved-question",
   "metadata": {
    "scrolled": true,
    "tags": []
   },
   "outputs": [
    {
     "name": "stdout",
     "output_type": "stream",
     "text": [
      "Multithreading with maximum 4 threads\n",
      "Thread start\n",
      "Thread start\n",
      "Thread start\n",
      "Thread start\n",
      "Thread complete\n",
      "Thread start\n",
      "Thread complete\n",
      "Thread start\n",
      "Thread complete\n",
      "Thread start\n",
      "Thread complete\n",
      "Thread start\n",
      "Thread complete\n",
      "Thread start\n",
      "Thread complete\n",
      "Thread start\n",
      "Thread complete\n",
      "Thread start\n",
      "Thread complete\n",
      "Thread start\n",
      "Thread complete\n",
      "Thread start\n",
      "Thread complete\n",
      "Thread start\n",
      "Thread complete\n",
      "Thread start\n",
      "Thread complete\n",
      "Thread start\n",
      "Thread complete\n",
      "Thread start\n",
      "Thread complete\n",
      "Thread start\n",
      "Thread complete\n",
      "Thread start\n",
      "Thread complete\n",
      "Thread start\n",
      "Thread complete\n",
      "Thread start\n",
      "Thread complete\n",
      "Thread start\n",
      "Thread complete\n",
      "Thread start\n",
      "Thread complete\n",
      "Thread start\n",
      "Thread complete\n",
      "Thread start\n",
      "Thread complete\n",
      "Thread start\n",
      "Thread complete\n",
      "Thread start\n",
      "Thread complete\n",
      "Thread start\n",
      "Thread complete\n",
      "Thread start\n",
      "Thread complete\n",
      "Thread start\n",
      "Thread complete\n",
      "Thread start\n",
      "Thread complete\n",
      "Thread start\n",
      "Thread complete\n",
      "Thread start\n",
      "Thread complete\n",
      "Thread start\n",
      "Thread complete\n",
      "Thread start\n",
      "Thread complete\n",
      "Thread start\n",
      "Thread complete\n",
      "Thread start\n",
      "Thread complete\n",
      "Thread start\n",
      "Thread complete\n",
      "Thread start\n",
      "Thread complete\n",
      "Thread start\n",
      "Thread complete\n",
      "Thread start\n",
      "Thread complete\n",
      "Thread start\n",
      "Thread complete\n",
      "Thread start\n",
      "Thread complete\n",
      "Thread start\n",
      "Thread complete\n",
      "Thread start\n",
      "Thread complete\n",
      "Thread start\n",
      "Thread complete\n",
      "Thread start\n",
      "Thread complete"
     ]
    },
    {
     "data": {
      "text/plain": [
       "0"
      ]
     },
     "execution_count": 9,
     "metadata": {},
     "output_type": "execute_result"
    },
    {
     "name": "stdout",
     "output_type": "stream",
     "text": [
      "\n",
      "Thread start\n"
     ]
    }
   ],
   "source": [
    "app = pg.mkQApp(\"Stress Detection\")\n",
    "pg.setConfigOptions(antialias=True)\n",
    "window = MainGUI()"
   ]
  },
  {
   "cell_type": "code",
   "execution_count": 10,
   "id": "composite-carol",
   "metadata": {},
   "outputs": [
    {
     "name": "stdout",
     "output_type": "stream",
     "text": [
      "<class '__main__.MainGUI'>\n",
      "Thread complete\n",
      "Thread start\n",
      "Thread complete\n",
      "Thread start\n",
      "Thread complete\n",
      "Thread start\n",
      "Thread complete\n",
      "Thread start\n",
      "Thread complete\n",
      "Thread start\n",
      "Thread complete\n",
      "Thread start\n",
      "Thread complete\n",
      "Thread start\n",
      "Thread complete\n",
      "Thread start\n",
      "Thread complete\n",
      "Thread start\n",
      "Thread complete\n",
      "Thread start\n",
      "Thread complete\n",
      "Thread complete\n",
      "Thread complete\n",
      "Thread complete\n"
     ]
    }
   ],
   "source": [
    "\n",
    "app.exec()"
   ]
  },
  {
   "cell_type": "code",
   "execution_count": null,
   "id": "protective-ethiopia",
   "metadata": {},
   "outputs": [],
   "source": []
  }
 ],
 "metadata": {
  "kernelspec": {
   "display_name": "Python 3",
   "language": "python",
   "name": "python3"
  },
  "language_info": {
   "codemirror_mode": {
    "name": "ipython",
    "version": 3
   },
   "file_extension": ".py",
   "mimetype": "text/x-python",
   "name": "python",
   "nbconvert_exporter": "python",
   "pygments_lexer": "ipython3",
   "version": "3.8.2"
  }
 },
 "nbformat": 4,
 "nbformat_minor": 5
}
