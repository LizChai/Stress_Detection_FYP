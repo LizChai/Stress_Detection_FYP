{
 "cells": [
  {
   "cell_type": "markdown",
   "id": "charming-cover",
   "metadata": {},
   "source": [
    "# Importing libraries"
   ]
  },
  {
   "cell_type": "code",
   "execution_count": 1,
   "id": "painted-spirit",
   "metadata": {},
   "outputs": [],
   "source": [
    "#!/usr/bin/env python\n",
    "%matplotlib inline\n",
    "\n",
    "import serial\n",
    "import time\n",
    "import datetime as dt\n",
    "import collections\n",
    "import numpy as np\n",
    "import matplotlib\n",
    "import matplotlib.pyplot as plt\n",
    "from scipy.signal import butter, lfilter, find_peaks\n",
    "import seaborn as sns\n",
    "import pickle\n",
    "\n",
    "import pandas as pd\n",
    "import re\n",
    "import csv\n",
    "import os\n",
    "\n",
    "import paho.mqtt.client as mqtt"
   ]
  },
  {
   "cell_type": "code",
   "execution_count": 2,
   "id": "damaged-hebrew",
   "metadata": {},
   "outputs": [],
   "source": [
    "import warnings\n",
    "warnings.filterwarnings('ignore')"
   ]
  },
  {
   "cell_type": "markdown",
   "id": "dental-folder",
   "metadata": {},
   "source": [
    "# Start MQTT Broker"
   ]
  },
  {
   "cell_type": "code",
   "execution_count": 3,
   "id": "median-stroke",
   "metadata": {},
   "outputs": [
    {
     "name": "stdout",
     "output_type": "stream",
     "text": [
      "C:\\Program Files (x86)\\Mosquitto\n",
      "C:\\Users\\ieliz\\Documents\\2021\\FYP\\Stress_Detection_FYP\\python_scripts\n"
     ]
    }
   ],
   "source": [
    "path = \"C:\\\\Users\\\\ieliz\\\\Documents\\\\2021\\\\FYP\\\\Stress_Detection_FYP\\\\python_scripts\\\\\"\n",
    "broker_path = \"C:\\\\Program Files (x86)\\\\Mosquitto\"\n",
    "os.chdir(broker_path)\n",
    "print(os.getcwd())\n",
    "os.system('cmd /k \"mosquitto -c mosquitto_conf.conf -v\"')\n",
    "\n",
    "os.chdir(path)\n",
    "print(os.getcwd())"
   ]
  },
  {
   "cell_type": "markdown",
   "id": "stuck-winter",
   "metadata": {},
   "source": [
    "# Setting up MQTT connections"
   ]
  },
  {
   "cell_type": "code",
   "execution_count": 4,
   "id": "macro-canon",
   "metadata": {},
   "outputs": [
    {
     "data": {
      "text/plain": [
       "0"
      ]
     },
     "execution_count": 4,
     "metadata": {},
     "output_type": "execute_result"
    }
   ],
   "source": [
    "# declaring variables and callback functions\n",
    "broker_address=\"192.168.1.125\"\n",
    "\n",
    "topic=\"data_reading\"\n",
    "\n",
    "def on_message(client, userdata, message):\n",
    "    global rec_message\n",
    "    rec_message = str(message.payload.decode(\"utf-8\"))\n",
    "    #print(rec_message)\n",
    "    \n",
    "# create client instance\n",
    "# Client constructor: Client(client_id=\"\", clean_session=True, userdata=None, protocol=MQTTv311, transport=\"tcp\")\n",
    "client = mqtt.Client(\"ComputerClient\")\n",
    "#print(\"Created client instance\")\n",
    "\n",
    "# when client receives message, it generates an on_message callback\n",
    "client.on_message=on_message\n",
    "\n",
    "# connecting to broker\n",
    "client.connect(broker_address)\n",
    "#print(\"Connected to broker\")"
   ]
  },
  {
   "cell_type": "markdown",
   "id": "fiscal-repeat",
   "metadata": {},
   "source": [
    "# Setting up prediction"
   ]
  },
  {
   "cell_type": "code",
   "execution_count": 5,
   "id": "useful-progress",
   "metadata": {},
   "outputs": [],
   "source": [
    "# Filter requirements\n",
    "order = 6\n",
    "fs = 60      # sample rate, Hz\n",
    "cutoff = 20  # desired cutoff frequency of the filter, Hz\n",
    "\n",
    "def butter_lowpass(cutoff, fs, order=5):\n",
    "    nyq = 0.5 * fs\n",
    "    normal_cutoff = cutoff / nyq\n",
    "    b, a = butter(order, normal_cutoff, btype='low', analog=False)\n",
    "    return b, a\n",
    "\n",
    "def butter_lowpass_filter(data, cutoff, fs, order=5):\n",
    "    b, a = butter_lowpass(cutoff, fs, order=order)\n",
    "    y = lfilter(b, a, data)\n",
    "    return y"
   ]
  },
  {
   "cell_type": "code",
   "execution_count": 6,
   "id": "fewer-tuning",
   "metadata": {},
   "outputs": [
    {
     "data": {
      "text/plain": [
       "KNeighborsClassifier()"
      ]
     },
     "execution_count": 6,
     "metadata": {},
     "output_type": "execute_result"
    }
   ],
   "source": [
    "# Load the pickled model\n",
    "saved_model_name = \"knn_model_all.sav\"\n",
    "\n",
    "clf = pickle.load(open(saved_model_name, 'rb'))\n",
    "clf"
   ]
  },
  {
   "cell_type": "code",
   "execution_count": null,
   "id": "adolescent-attitude",
   "metadata": {},
   "outputs": [],
   "source": [
    "def predict_live(model, dataframe, window_size):\n",
    "    \n",
    "    # grab moving window of data\n",
    "    size = len(dataframe.index)\n",
    "    if size >= window_size:\n",
    "        df = dataframe.iloc[-(window_size+1):].copy()\n",
    "        print(df)\n",
    "    else:\n",
    "        df = dataframe.copy()\n",
    "    \n",
    "    # moving average filter\n",
    "    df[\"Conductance (uS)\"] = dataframe[\"Conductance (uS)\"].rolling(2).mean() #1 second moving average filter\n",
    "    df = df.dropna()\n",
    "    \n",
    "    # min-max norm\n",
    "    min_val_gsr = min(df['Conductance (uS)'])\n",
    "    max_val_gsr = max(df['Conductance (uS)'])\n",
    "    scaling_gsr = max_val_gsr-min_val_gsr\n",
    "    df.loc[:, 'Normalised_GSR'] = (df.loc[:, 'Conductance (uS)']- min_val_gsr)/scaling_gsr \n",
    "    \n",
    "    min_val_hr = min(df[\"Heart_Rate\"])\n",
    "    max_val_hr = max(df[\"Heart_Rate\"])\n",
    "    scaling_hr = max_val_hr-min_val_hr\n",
    "    df.loc[:, \"Normalised_HR\"] = (df.loc[:, \"Heart_Rate\"]- min_val_hr)/scaling_hr \n",
    "    \n",
    "    # filtering\n",
    "    df[\"LPF_GSR\"] = butter_lowpass_filter(df[\"Normalised_GSR\"], cutoff, fs, order)\n",
    "    df[\"LPF_HR\"] = butter_lowpass_filter(df[\"Normalised_HR\"], cutoff, fs, order)\n",
    "    \n",
    "    HR_data = df[\"LPF_HR\"].to_numpy()\n",
    "    GSR_data = df[\"LPF_GSR\"].to_numpy()\n",
    "        \n",
    "    # find hr peaks\n",
    "    curr_peaks_ind, _ = find_peaks(HR_data)\n",
    "    curr_peaks = HR_data[curr_peaks_ind]\n",
    "    HR_max_peak = max(curr_peaks)\n",
    "    \n",
    "    # find hr ave\n",
    "    HR_ave = np.mean(HR_data)\n",
    "    \n",
    "    # find gsr peaks\n",
    "    curr_peaks_ind, _ = find_peaks(GSR_data)\n",
    "    curr_peaks = GSR_data[curr_peaks_ind]\n",
    "    GSR_max_peak = max(curr_peaks)\n",
    "    \n",
    "    # find gsr ave\n",
    "    GSR_ave = np.mean(GSR_data)\n",
    "    \n",
    "    prediction = clf.predict(np.c_[HR_max_peak, GSR_max_peak, HR_ave, GSR_ave])\n",
    "    \n",
    "    return prediction"
   ]
  },
  {
   "cell_type": "markdown",
   "id": "middle-rotation",
   "metadata": {},
   "source": [
    "# Reading in data"
   ]
  },
  {
   "cell_type": "code",
   "execution_count": null,
   "id": "administrative-expression",
   "metadata": {},
   "outputs": [],
   "source": [
    "timeout = 5                       # Seconds\n",
    "# filename = \"assessment_test.csv\"\n",
    "tempname = \"testing\"\n",
    "max_num_readings = 5*60            # Seconds\n",
    "\n",
    "r = re.compile(\"(?<==)([0-9]+)\")\n",
    "\n",
    "plotLength = 20"
   ]
  },
  {
   "cell_type": "code",
   "execution_count": null,
   "id": "quarterly-second",
   "metadata": {
    "tags": []
   },
   "outputs": [],
   "source": [
    "client.loop_start()\n",
    "print(\"Recording\"+ \" Started\")\n",
    "\n",
    "# run a loop otherwise, miss callbacks\n",
    "client.loop_start()\n",
    "\n",
    "# subscribing to topic\n",
    "client.subscribe(topic)\n",
    "print(\"Subscribed to topic\", topic)\n",
    "\n",
    "idx = 0\n",
    "hr_data = []\n",
    "gsr_data = []\n",
    "resistance_data = []\n",
    "conductance_data = []\n",
    "prediction_data = []\n",
    "readings_left = True\n",
    "timeout_reached = False\n",
    "rec_message = \"\"\n",
    "\n",
    "df_predict = pd.DataFrame(columns = ['Time (hr:min:sec)', 'Time (s)', 'GSR', 'Resistance', 'Conductance (uS)', 'Heart_Rate', 'Section'])\n",
    "\n",
    "filename = tempname + \".csv\"\n",
    "\n",
    "with open(filename, \"w\", newline='', encoding='utf-8') as f:\n",
    "    writer = csv.writer(f, delimiter=',', quotechar='\"')\n",
    "    writer.writerow(['Time (hr:min:sec)', 'Time (s)', 'GSR', 'Resistance', 'Conductance (uS)', 'Heart_Rate', 'Section', 'Stressed'])\n",
    "    \n",
    "    while readings_left and not timeout_reached:\n",
    "        global rec_message\n",
    "        serial_line = rec_message\n",
    "        time.sleep(1)\n",
    "        try:\n",
    "            idx += 1\n",
    "            \n",
    "            match = re.findall(r, serial_line)\n",
    "            hr = int(match[0])\n",
    "            gsr = int(match[1])\n",
    "            #print(hr, gsr)\n",
    "\n",
    "            hr_data.append(hr)        \n",
    "\n",
    "            resistance = (2**10 + 2*gsr)/(2**9-gsr)*10000\n",
    "            gsr_data.append(gsr)\n",
    "            resistance_data.append(resistance)\n",
    "\n",
    "            conductance = 1/resistance*1000000\n",
    "            conductance_data.append(conductance)\n",
    "\n",
    "            if len(hr_data) >= max_num_readings:\n",
    "                readings_left = False\n",
    "                \n",
    "            t = time.strftime(\"%H:%M:%S\", time.localtime())\n",
    "            writer.writerow([t, idx, gsr, resistance, conductance, hr, tempname])\n",
    "            \n",
    "            df_predict.loc[idx] = [t, idx, gsr, resistance, conductance, hr, tempname]\n",
    "            \n",
    "            if len(hr_data) >= 3:\n",
    "                prediction = predict_live(clf, df_predict)\n",
    "                prediction_data.append(prediction[0])\n",
    "                if prediction[0] >= 5:\n",
    "                    print(hr, gsr, \"Stressed\")\n",
    "                else:\n",
    "                    print(hr, gsr, \"Not Stressed\")\n",
    "            \n",
    "        except:\n",
    "            continue        \n",
    "\n",
    "    print(\"Recording\" + \" Finished\")\n",
    "    \n",
    "    # stop MQTT loop\n",
    "    client.loop_stop()\n",
    "    "
   ]
  },
  {
   "cell_type": "code",
   "execution_count": 14,
   "id": "similar-possession",
   "metadata": {},
   "outputs": [],
   "source": [
    "client.loop_stop()"
   ]
  },
  {
   "cell_type": "markdown",
   "id": "proprietary-brazil",
   "metadata": {},
   "source": [
    "# Graphing data"
   ]
  },
  {
   "cell_type": "code",
   "execution_count": null,
   "id": "restricted-boards",
   "metadata": {},
   "outputs": [],
   "source": [
    "# First set up the figure, the axis, and the plot element we want to animate\n",
    "fig, ax = plt.subplots()\n",
    "\n",
    "times=np.arange(1, plotLength+1).tolist()\n",
    "voltages = []\n",
    "\n",
    "ax.set_xlim((0, plotLength))\n",
    "ax.set_ylim((0, 4000))\n",
    "ax.set_title('Feather Analog Read')\n",
    "ax.set_xlabel(\"time (s)\")\n",
    "ax.set_ylabel(\"Voltage (mV)\")\n",
    "\n",
    "xs = []\n",
    "ys = []\n",
    "\n",
    "line, = ax.plot([], [], lw=2)\n",
    "\n",
    "x_count = 0"
   ]
  }
 ],
 "metadata": {
  "kernelspec": {
   "display_name": "Python 3",
   "language": "python",
   "name": "python3"
  },
  "language_info": {
   "codemirror_mode": {
    "name": "ipython",
    "version": 3
   },
   "file_extension": ".py",
   "mimetype": "text/x-python",
   "name": "python",
   "nbconvert_exporter": "python",
   "pygments_lexer": "ipython3",
   "version": "3.8.2"
  }
 },
 "nbformat": 4,
 "nbformat_minor": 5
}
