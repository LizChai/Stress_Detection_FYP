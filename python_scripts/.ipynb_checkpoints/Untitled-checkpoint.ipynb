{
 "cells": [
  {
   "cell_type": "markdown",
   "id": "victorian-warrior",
   "metadata": {},
   "source": [
    "# Importing libraries"
   ]
  },
  {
   "cell_type": "code",
   "execution_count": 1,
   "id": "north-gauge",
   "metadata": {},
   "outputs": [],
   "source": [
    "#!/usr/bin/env python\n",
    "%matplotlib inline\n",
    "\n",
    "import serial\n",
    "import time\n",
    "import datetime as dt\n",
    "import collections\n",
    "import numpy as np\n",
    "import matplotlib.pyplot as plt\n",
    "from matplotlib import animation, rc\n",
    "from IPython.display import HTML\n",
    "\n",
    "import pandas as pd\n",
    "import re\n",
    "import csv"
   ]
  },
  {
   "cell_type": "markdown",
   "id": "underlying-notebook",
   "metadata": {},
   "source": [
    "# Reading in data"
   ]
  },
  {
   "cell_type": "code",
   "execution_count": 2,
   "id": "stuffed-charge",
   "metadata": {},
   "outputs": [],
   "source": [
    "portName = 'COM3'\n",
    "baudRate = 115200\n",
    "plotLength = 20\n",
    "timeout = 5                       # Seconds\n",
    "filename = \"data.csv\"\n",
    "max_num_readings = 10\n",
    "num_signals = 1"
   ]
  },
  {
   "cell_type": "code",
   "execution_count": 16,
   "id": "determined-nightmare",
   "metadata": {},
   "outputs": [],
   "source": [
    "serial_data = []\n",
    "readings_left = True\n",
    "timeout_reached = False"
   ]
  },
  {
   "cell_type": "code",
   "execution_count": 17,
   "id": "coordinated-maine",
   "metadata": {},
   "outputs": [],
   "source": [
    "ser = serial.Serial(portName, baudRate)\n",
    "ser.flushInput()"
   ]
  },
  {
   "cell_type": "code",
   "execution_count": 18,
   "id": "demonstrated-ultimate",
   "metadata": {},
   "outputs": [],
   "source": [
    "# Testing code\n",
    "# for i in range(1000):\n",
    "\n",
    "#     voltage = ser.readline().decode(\"utf-8\").strip()\n",
    "#     print(voltage)"
   ]
  },
  {
   "cell_type": "code",
   "execution_count": 19,
   "id": "constitutional-library",
   "metadata": {},
   "outputs": [
    {
     "name": "stdout",
     "output_type": "stream",
     "text": [
      "1913\n",
      "1913\n",
      "1919\n",
      "1909\n",
      "1900\n",
      "1884\n",
      "1867\n",
      "1887\n",
      "1864\n",
      "1871\n"
     ]
    }
   ],
   "source": [
    "while readings_left and not timeout_reached:\n",
    "    serial_line = int(ser.readline().decode(\"utf-8\").strip())\n",
    "    serial_data.append(serial_line)\n",
    "    print(serial_line)\n",
    "    resistance = (2^10 + 2*serial_line)/(2^9-serial_line)*10000\n",
    "    print(resistance)\n",
    "    \n",
    "    if serial_line == \"\":\n",
    "        timeout_reached = True\n",
    "    if len(serial_data) >= max_num_readings:\n",
    "        readings_left = False\n",
    "    "
   ]
  },
  {
   "cell_type": "code",
   "execution_count": 20,
   "id": "featured-coach",
   "metadata": {},
   "outputs": [],
   "source": [
    "ser.close()"
   ]
  },
  {
   "cell_type": "code",
   "execution_count": 21,
   "id": "tested-operations",
   "metadata": {},
   "outputs": [
    {
     "name": "stdout",
     "output_type": "stream",
     "text": [
      "['1913', '1913', '1919', '1909', '1900', '1884', '1867', '1887', '1864', '1871']\n"
     ]
    }
   ],
   "source": [
    "print(serial_data)"
   ]
  },
  {
   "cell_type": "markdown",
   "id": "hungarian-retrieval",
   "metadata": {},
   "source": [
    "# Graphing data"
   ]
  },
  {
   "cell_type": "code",
   "execution_count": null,
   "id": "constitutional-share",
   "metadata": {},
   "outputs": [],
   "source": [
    "# First set up the figure, the axis, and the plot element we want to animate\n",
    "fig, ax = plt.subplots()\n",
    "\n",
    "times=np.arange(1, plotLength+1).tolist()\n",
    "voltages = []\n",
    "\n",
    "ax.set_xlim((0, plotLength))\n",
    "ax.set_ylim((0, 4000))\n",
    "ax.set_title('Feather Analog Read')\n",
    "ax.set_xlabel(\"time\")\n",
    "ax.set_ylabel(\"Voltage (mV)\")\n",
    "\n",
    "xs = []\n",
    "ys = []\n",
    "\n",
    "line, = ax.plot([], [], lw=2)\n",
    "\n",
    "x_count = 0"
   ]
  },
  {
   "cell_type": "code",
   "execution_count": null,
   "id": "studied-outside",
   "metadata": {},
   "outputs": [],
   "source": [
    "# initialization function: plot the background of each frame\n",
    "def init():\n",
    "    line.set_data([], [])\n",
    "    return (line,)"
   ]
  },
  {
   "cell_type": "code",
   "execution_count": null,
   "id": "solar-jumping",
   "metadata": {},
   "outputs": [],
   "source": [
    "# animation function. This is called sequentially\n",
    "def animate(i, x_count, xs, ys):\n",
    "#     x = np.linspace(0, 20, 1000)\n",
    "#     y = np.sin(2 * np.pi * (x - 0.01 * i))\n",
    "#     curr_time = dt.datetime.now().strftime('%H:%M:%S')\n",
    "    voltage = int(ser.readline().decode(\"utf-8\").strip())\n",
    "    x_count = x_count + 1\n",
    "    \n",
    "    xs.append(x_count)\n",
    "    ys.append(voltage)\n",
    "    \n",
    "    xs = xs[-20:]\n",
    "    ys = ys[-20:]\n",
    "    \n",
    "    line.set_data(xs, ys)\n",
    "    return (line,)"
   ]
  },
  {
   "cell_type": "code",
   "execution_count": null,
   "id": "explicit-savings",
   "metadata": {},
   "outputs": [],
   "source": [
    "# call the animator. blit=True means only re-draw the parts that have changed.\n",
    "anim = animation.FuncAnimation(fig, animate, fargs=(x_count, xs, ys), init_func=init,\n",
    "                               frames=100, interval=20, blit=True)"
   ]
  },
  {
   "cell_type": "code",
   "execution_count": null,
   "id": "cosmetic-productivity",
   "metadata": {},
   "outputs": [],
   "source": [
    "HTML(anim.to_jshtml())"
   ]
  },
  {
   "cell_type": "code",
   "execution_count": null,
   "id": "verbal-medicare",
   "metadata": {},
   "outputs": [],
   "source": []
  }
 ],
 "metadata": {
  "kernelspec": {
   "display_name": "Python 3",
   "language": "python",
   "name": "python3"
  },
  "language_info": {
   "codemirror_mode": {
    "name": "ipython",
    "version": 3
   },
   "file_extension": ".py",
   "mimetype": "text/x-python",
   "name": "python",
   "nbconvert_exporter": "python",
   "pygments_lexer": "ipython3",
   "version": "3.8.2"
  }
 },
 "nbformat": 4,
 "nbformat_minor": 5
}
