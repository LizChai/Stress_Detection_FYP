{
 "cells": [
  {
   "cell_type": "code",
   "execution_count": 2,
   "id": "secure-discovery",
   "metadata": {},
   "outputs": [],
   "source": [
    "import paho.mqtt.client as mqtt\n",
    "import time"
   ]
  },
  {
   "cell_type": "code",
   "execution_count": 12,
   "id": "rational-greeting",
   "metadata": {},
   "outputs": [],
   "source": [
    "# declaring variables and callback functions\n",
    "broker_address=\"192.168.1.125\"\n",
    "\n",
    "topic=\"data_reading\"\n",
    "\n",
    "def on_message(client, userdata, message):\n",
    "    print(str(message.payload.decode(\"utf-8\")))"
   ]
  },
  {
   "cell_type": "code",
   "execution_count": 14,
   "id": "fancy-bridges",
   "metadata": {},
   "outputs": [
    {
     "name": "stdout",
     "output_type": "stream",
     "text": [
      "here\n",
      "Subscribed to topic data_reading\n",
      "BPM=75, GSR=443\n",
      "BPM=75, GSR=443\n",
      "BPM=75, GSR=442\n",
      "BPM=75, GSR=442\n",
      "BPM=75, GSR=441\n"
     ]
    }
   ],
   "source": [
    "# create client instance\n",
    "# Client constructor: Client(client_id=\"\", clean_session=True, userdata=None, protocol=MQTTv311, transport=\"tcp\")\n",
    "client = mqtt.Client(\"ComputerClient\")\n",
    "#print(\"Created client instance\")\n",
    "\n",
    "# when client receives message, it generates an on_message callback\n",
    "client.on_message=on_message\n",
    "\n",
    "# connecting to broker\n",
    "client.connect(broker_address)\n",
    "#print(\"Connected to broker\")\n",
    "\n",
    "# run a loop otherwise, miss callbacks\n",
    "client.loop_start()\n",
    "\n",
    "# subscribing to topic\n",
    "client.subscribe(topic)\n",
    "print(\"Subscribed to topic\", topic)\n",
    "\n",
    "time.sleep(4)\n",
    "\n",
    "# stop loop\n",
    "client.loop_stop()\n"
   ]
  },
  {
   "cell_type": "code",
   "execution_count": null,
   "id": "assumed-lesbian",
   "metadata": {},
   "outputs": [],
   "source": []
  }
 ],
 "metadata": {
  "kernelspec": {
   "display_name": "Python 3",
   "language": "python",
   "name": "python3"
  },
  "language_info": {
   "codemirror_mode": {
    "name": "ipython",
    "version": 3
   },
   "file_extension": ".py",
   "mimetype": "text/x-python",
   "name": "python",
   "nbconvert_exporter": "python",
   "pygments_lexer": "ipython3",
   "version": "3.8.2"
  }
 },
 "nbformat": 4,
 "nbformat_minor": 5
}
